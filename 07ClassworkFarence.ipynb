{
 "cells": [
  {
   "cell_type": "markdown",
   "metadata": {},
   "source": [
    "> **TURN THIS IN ON GRADESCOPE AS BOTH A NOTEBOOK AND A PYTHON FILE (`File > Download as > Python .py`)**\n",
    "\n",
    "Is this a test? It looks like a test!\n",
    "\n",
    "**It isn't a test.** I just want to see where you're at and see where to direct resources.\n",
    "\n",
    "### _TRY TO NOT USE THE INTERNET, JUST DO IT THIS BASED ON WHAT YOU KNOW._\n",
    "\n",
    "### _IF YOU FEEL LIKE YOU REALLY REALLY NEED TO USE THE INTERNET, LIST ALL OF THE PAGES YOU READ ALONG WITH YOUR ANSWER._\n",
    "\n",
    "# 📝📝📝 Strings and numbers!!!"
   ]
  },
  {
   "cell_type": "markdown",
   "metadata": {},
   "source": [
    "### Convert `km` to meters, and save it into a new variable named `meters`"
   ]
  },
  {
   "cell_type": "code",
   "execution_count": 4,
   "metadata": {},
   "outputs": [],
   "source": [
    "km = 400\n",
    "meters = 400 *1000"
   ]
  },
  {
   "cell_type": "code",
   "execution_count": 10,
   "metadata": {},
   "outputs": [
    {
     "name": "stdout",
     "output_type": "stream",
     "text": [
      "400,000\n"
     ]
    }
   ],
   "source": [
    "print(f'{meters:,}')"
   ]
  },
  {
   "cell_type": "markdown",
   "metadata": {},
   "source": [
    "### Print the sentence `\"My name is Tiger Balm and my blood glucose level was 244 last night.\"`\n",
    "\n",
    "Use the variables below."
   ]
  },
  {
   "cell_type": "code",
   "execution_count": 2,
   "metadata": {},
   "outputs": [],
   "source": [
    "name = \"Tiger Balm\"\n",
    "reading = 244\n"
   ]
  },
  {
   "cell_type": "code",
   "execution_count": 3,
   "metadata": {},
   "outputs": [
    {
     "name": "stdout",
     "output_type": "stream",
     "text": [
      "My name is Tiger Balm and my blood glucose level was 244 last night.\n"
     ]
    }
   ],
   "source": [
    "print(f'My name is {name} and my blood glucose level was {reading} last night.')"
   ]
  },
  {
   "cell_type": "markdown",
   "metadata": {},
   "source": [
    "### Print the sentence `\"I ate ___ pies\"`, rounded to 3 decimal places\n",
    "\n",
    "Use the variable below."
   ]
  },
  {
   "cell_type": "code",
   "execution_count": 13,
   "metadata": {},
   "outputs": [],
   "source": [
    "pies_eaten = round(7/22,3)"
   ]
  },
  {
   "cell_type": "code",
   "execution_count": 14,
   "metadata": {},
   "outputs": [
    {
     "name": "stdout",
     "output_type": "stream",
     "text": [
      "I ate 0.318 pies.\n"
     ]
    }
   ],
   "source": [
    "print(f'I ate {pies_eaten} pies.')"
   ]
  },
  {
   "cell_type": "markdown",
   "metadata": {},
   "source": [
    "### Use Python to print out `\"YELLING\"` instead of `\"yelling\"`"
   ]
  },
  {
   "cell_type": "code",
   "execution_count": 16,
   "metadata": {},
   "outputs": [
    {
     "data": {
      "text/plain": [
       "'YELLING'"
      ]
     },
     "execution_count": 16,
     "metadata": {},
     "output_type": "execute_result"
    }
   ],
   "source": [
    "\"yelling\".upper()"
   ]
  },
  {
   "cell_type": "code",
   "execution_count": null,
   "metadata": {},
   "outputs": [],
   "source": []
  },
  {
   "cell_type": "markdown",
   "metadata": {},
   "source": [
    "### How did you feel about this section? What did you know? What was tough? What was something you feel like you know but you just couldn't make work?\n",
    "\n",
    "Write your answer as a comment in the cell below"
   ]
  },
  {
   "cell_type": "code",
   "execution_count": null,
   "metadata": {},
   "outputs": [],
   "source": [
    "# This section wasn't bad. Needed to remind myself of a few nuances but all in all, we're in the clear."
   ]
  },
  {
   "cell_type": "markdown",
   "metadata": {},
   "source": [
    "# 📝📝📝 `if` statements!!!\n",
    "\n",
    "Cats with diabetes need insulin shots each day to stay healthy. When managing a cat with diabetes, you might use the [Start Low Go Slow](https://www.felinediabetes.com/FDMB/threads/prozinc-dosing-methods.225629/) method of figuring out their dose.\n",
    "\n",
    "> **Starting Dose:**\n",
    ">\n",
    "> * 1 unit twice a day if kitty is NOT on a wet/canned low carb diet\n",
    "> * 0.5 units twice a day if kitty has been switched to a wet/canned low carb diet\n",
    "\n",
    "Use an `if` statement to print how many units of insulin this cat should receive."
   ]
  },
  {
   "cell_type": "code",
   "execution_count": 18,
   "metadata": {},
   "outputs": [],
   "source": [
    "food_type = 'dry food'"
   ]
  },
  {
   "cell_type": "code",
   "execution_count": 19,
   "metadata": {},
   "outputs": [
    {
     "name": "stdout",
     "output_type": "stream",
     "text": [
      "This cat should receive two insulin shots a day.\n"
     ]
    }
   ],
   "source": [
    "if food_type == 'dry food':\n",
    "    print('This cat should receive two insulin shots a day.')\n",
    "else:\n",
    "    print('This cat should receive one insulin shot. a day.')"
   ]
  },
  {
   "cell_type": "markdown",
   "metadata": {},
   "source": [
    "### Blood sugar categories\n",
    "\n",
    "When you're measuring a cat's blood sugar levels, you can put their blood sugar measurements [into categories](https://www.felinediabetes.com/FDMB/threads/what-is-regulation.214777/).\n",
    "\n",
    "> * **Not treated** blood glucose above 300 mg/dl\n",
    "> * **Regulated** generally between 250-300\n",
    "> * **Well regulated** generally below 200-250\n",
    "> * **Tightly regulated** generally between 120-150\n",
    "> * **Normalized** generally between 60-120\n",
    "\n",
    "Write some code to print which category a cat is in based on their blood glucose reading."
   ]
  },
  {
   "cell_type": "code",
   "execution_count": 21,
   "metadata": {},
   "outputs": [],
   "source": [
    "glucose = 244\n",
    "cat_statement = \"This cat's blood sugar category is: \""
   ]
  },
  {
   "cell_type": "code",
   "execution_count": 25,
   "metadata": {},
   "outputs": [
    {
     "name": "stdout",
     "output_type": "stream",
     "text": [
      "This cat's blood sugar category is:  Well Regulated.\n"
     ]
    }
   ],
   "source": [
    "if glucose > 300:\n",
    "    print(f'{cat_statement} Not treated.')\n",
    "elif glucose < 300 and glucose > 250:\n",
    "    print(f'{cat_statement} Regulated.')\n",
    "elif glucose < 250 and glucose > 200:\n",
    "    print(f'{cat_statement} Well Regulated.')\n",
    "elif glucose < 150 and glucose > 120:\n",
    "    print(f'{cat_statement} Tightly regulated.')\n",
    "else:\n",
    "    print(f'{cat_statement} Normalized.')"
   ]
  },
  {
   "cell_type": "markdown",
   "metadata": {},
   "source": [
    "### How did you feel about this section? What did you know? What was tough? What was something you feel like you know but you just couldn't make work?\n",
    "\n",
    "Write your answer as a comment in the cell below"
   ]
  },
  {
   "cell_type": "code",
   "execution_count": null,
   "metadata": {},
   "outputs": [],
   "source": [
    "## This section was fine."
   ]
  },
  {
   "cell_type": "markdown",
   "metadata": {},
   "source": [
    "# 📝📝📝 Lists!!!"
   ]
  },
  {
   "cell_type": "markdown",
   "metadata": {},
   "source": [
    "### Make a list of 3 kinds of food\n",
    "\n",
    "How about soups? Sandwiches? Up to you."
   ]
  },
  {
   "cell_type": "code",
   "execution_count": 26,
   "metadata": {},
   "outputs": [],
   "source": [
    "sandwhiches = ['Buffalo Chicken', 'PB&J', 'Ham & Cheese']"
   ]
  },
  {
   "cell_type": "markdown",
   "metadata": {},
   "source": [
    "### Print the first food item"
   ]
  },
  {
   "cell_type": "code",
   "execution_count": 27,
   "metadata": {},
   "outputs": [
    {
     "data": {
      "text/plain": [
       "'Buffalo Chicken'"
      ]
     },
     "execution_count": 27,
     "metadata": {},
     "output_type": "execute_result"
    }
   ],
   "source": [
    "sandwhiches[0]"
   ]
  },
  {
   "cell_type": "markdown",
   "metadata": {},
   "source": [
    "### Print `\"Do you like ____?\"` for the last food."
   ]
  },
  {
   "cell_type": "code",
   "execution_count": 30,
   "metadata": {},
   "outputs": [
    {
     "name": "stdout",
     "output_type": "stream",
     "text": [
      "Do you like Ham & Cheese?\n"
     ]
    }
   ],
   "source": [
    "print(f'Do you like {sandwhiches[-1]}?')"
   ]
  },
  {
   "cell_type": "markdown",
   "metadata": {},
   "source": [
    "### Print `\"I like to eat _____\"` for each food."
   ]
  },
  {
   "cell_type": "code",
   "execution_count": 31,
   "metadata": {},
   "outputs": [
    {
     "name": "stdout",
     "output_type": "stream",
     "text": [
      "I like to eat Buffalo Chicken\n",
      "I like to eat PB&J\n",
      "I like to eat Ham & Cheese\n"
     ]
    }
   ],
   "source": [
    "for sandwhich in sandwhiches:\n",
    "    print(f'I like to eat {sandwhich}')"
   ]
  },
  {
   "cell_type": "markdown",
   "metadata": {},
   "source": [
    "## Calculations with lists\n",
    "\n",
    "This is a list of blood glucose level readings for the cat Tiger Balm. You don't need to do anything yet, just keep reading."
   ]
  },
  {
   "cell_type": "code",
   "execution_count": 32,
   "metadata": {},
   "outputs": [],
   "source": [
    "readings = [\n",
    "    329,\n",
    "    282,\n",
    "    359,\n",
    "    284,\n",
    "    29,\n",
    "    246,\n",
    "    250,\n",
    "    244,\n",
    "    180\n",
    "]"
   ]
  },
  {
   "cell_type": "markdown",
   "metadata": {},
   "source": [
    "### Print the highest reading"
   ]
  },
  {
   "cell_type": "code",
   "execution_count": 37,
   "metadata": {},
   "outputs": [
    {
     "name": "stdout",
     "output_type": "stream",
     "text": [
      "359\n"
     ]
    }
   ],
   "source": [
    "print(max(readings))"
   ]
  },
  {
   "cell_type": "markdown",
   "metadata": {},
   "source": [
    "### Print the lowest reading"
   ]
  },
  {
   "cell_type": "code",
   "execution_count": 38,
   "metadata": {},
   "outputs": [
    {
     "name": "stdout",
     "output_type": "stream",
     "text": [
      "29\n"
     ]
    }
   ],
   "source": [
    "print(min(readings))"
   ]
  },
  {
   "cell_type": "markdown",
   "metadata": {},
   "source": [
    "### Print the mean reading\n",
    "\n",
    "You'll need to calculate it."
   ]
  },
  {
   "cell_type": "code",
   "execution_count": 39,
   "metadata": {},
   "outputs": [
    {
     "name": "stdout",
     "output_type": "stream",
     "text": [
      "244.77777777777777\n"
     ]
    }
   ],
   "source": [
    "mean_readings = sum(readings) / len(readings)\n",
    "print(mean_readings)"
   ]
  },
  {
   "cell_type": "markdown",
   "metadata": {},
   "source": [
    "### Use the `statistics` library to calculate the median reading"
   ]
  },
  {
   "cell_type": "code",
   "execution_count": 50,
   "metadata": {},
   "outputs": [],
   "source": [
    "import statistics"
   ]
  },
  {
   "cell_type": "code",
   "execution_count": 51,
   "metadata": {},
   "outputs": [
    {
     "ename": "NameError",
     "evalue": "name 'median' is not defined",
     "output_type": "error",
     "traceback": [
      "\u001b[1;31m---------------------------------------------------------------------------\u001b[0m",
      "\u001b[1;31mNameError\u001b[0m                                 Traceback (most recent call last)",
      "\u001b[1;32m<ipython-input-51-395be1565b17>\u001b[0m in \u001b[0;36m<module>\u001b[1;34m\u001b[0m\n\u001b[1;32m----> 1\u001b[1;33m \u001b[0mmedian\u001b[0m\u001b[1;33m(\u001b[0m\u001b[0mreadings\u001b[0m\u001b[1;33m)\u001b[0m\u001b[1;33m\u001b[0m\u001b[1;33m\u001b[0m\u001b[0m\n\u001b[0m",
      "\u001b[1;31mNameError\u001b[0m: name 'median' is not defined"
     ]
    }
   ],
   "source": [
    "median(readings)"
   ]
  },
  {
   "cell_type": "markdown",
   "metadata": {},
   "source": [
    "### How did you feel about this section? What did you know? What was tough? What was something you feel like you know but you just couldn't make work?\n",
    "\n",
    "Write your answer as a comment in the cell below"
   ]
  },
  {
   "cell_type": "code",
   "execution_count": null,
   "metadata": {},
   "outputs": [],
   "source": [
    "## The median question screwed my up and I can't figure out why. But I was fine with the rest of it."
   ]
  },
  {
   "cell_type": "markdown",
   "metadata": {},
   "source": [
    "# 📝📝📝 Dictionaries!!!"
   ]
  },
  {
   "cell_type": "markdown",
   "metadata": {},
   "source": [
    "### Make a dictionary called `cases`.\n",
    "\n",
    "Use this data about the number of COVID cases:\n",
    "\n",
    "* **New York City:** 287,000\n",
    "* **Nassau County:** 54,014\n",
    "* **Suffolk County:** 53,308\n",
    "* **Westchester County:** 44,345"
   ]
  },
  {
   "cell_type": "code",
   "execution_count": 53,
   "metadata": {},
   "outputs": [],
   "source": [
    "cases = {\n",
    "    'New York City': 287000,\n",
    "    'Nassau County': 54014,\n",
    "    'Suffolk County': 53308,\n",
    "    'Westchester County': 44345\n",
    "}"
   ]
  },
  {
   "cell_type": "markdown",
   "metadata": {},
   "source": [
    "### Print the number of COVID cases in Westchester County"
   ]
  },
  {
   "cell_type": "code",
   "execution_count": 54,
   "metadata": {},
   "outputs": [
    {
     "name": "stdout",
     "output_type": "stream",
     "text": [
      "44345\n"
     ]
    }
   ],
   "source": [
    "print(cases['Westchester County'])"
   ]
  },
  {
   "cell_type": "markdown",
   "metadata": {},
   "source": [
    "### Compare the number of COVID cases in Westchester and Suffolk, printing the location with a higher number."
   ]
  },
  {
   "cell_type": "code",
   "execution_count": 56,
   "metadata": {},
   "outputs": [
    {
     "name": "stdout",
     "output_type": "stream",
     "text": [
      "53308\n"
     ]
    }
   ],
   "source": [
    "if cases['Suffolk County'] > cases['Westchester County']:\n",
    "    print(cases['Suffolk County'])\n",
    "else:\n",
    "    print(cases['Westchester County'])"
   ]
  },
  {
   "cell_type": "markdown",
   "metadata": {},
   "source": [
    "### Print the names of each location."
   ]
  },
  {
   "cell_type": "code",
   "execution_count": 64,
   "metadata": {},
   "outputs": [
    {
     "name": "stdout",
     "output_type": "stream",
     "text": [
      "dict_keys(['New York City', 'Nassau County', 'Suffolk County', 'Westchester County'])\n"
     ]
    }
   ],
   "source": [
    "print(cases.keys())"
   ]
  },
  {
   "cell_type": "markdown",
   "metadata": {},
   "source": [
    "### Calculate the total number of COVID cases in these locations."
   ]
  },
  {
   "cell_type": "code",
   "execution_count": 71,
   "metadata": {},
   "outputs": [
    {
     "ename": "TypeError",
     "evalue": "unsupported operand type(s) for +: 'dict' and 'int'",
     "output_type": "error",
     "traceback": [
      "\u001b[1;31m---------------------------------------------------------------------------\u001b[0m",
      "\u001b[1;31mTypeError\u001b[0m                                 Traceback (most recent call last)",
      "\u001b[1;32m<ipython-input-71-ee98c03bf263>\u001b[0m in \u001b[0;36m<module>\u001b[1;34m\u001b[0m\n\u001b[0;32m      1\u001b[0m \u001b[0mcase_counter\u001b[0m \u001b[1;33m=\u001b[0m \u001b[1;36m0\u001b[0m\u001b[1;33m\u001b[0m\u001b[1;33m\u001b[0m\u001b[0m\n\u001b[0;32m      2\u001b[0m \u001b[1;32mfor\u001b[0m \u001b[0mcase_counts\u001b[0m \u001b[1;32min\u001b[0m \u001b[0mcases\u001b[0m\u001b[1;33m:\u001b[0m\u001b[1;33m\u001b[0m\u001b[1;33m\u001b[0m\u001b[0m\n\u001b[1;32m----> 3\u001b[1;33m     \u001b[0mcases\u001b[0m \u001b[1;33m=\u001b[0m \u001b[0mcases\u001b[0m \u001b[1;33m+\u001b[0m \u001b[0mcase_counter\u001b[0m\u001b[1;33m\u001b[0m\u001b[1;33m\u001b[0m\u001b[0m\n\u001b[0m\u001b[0;32m      4\u001b[0m \u001b[0mprint\u001b[0m\u001b[1;33m(\u001b[0m\u001b[0mcase_counter\u001b[0m\u001b[1;33m)\u001b[0m\u001b[1;33m\u001b[0m\u001b[1;33m\u001b[0m\u001b[0m\n",
      "\u001b[1;31mTypeError\u001b[0m: unsupported operand type(s) for +: 'dict' and 'int'"
     ]
    }
   ],
   "source": [
    "case_counter = 0\n",
    "for case_counts in cases:\n",
    "    cases = cases + case_counter\n",
    "print(case_counter)"
   ]
  },
  {
   "cell_type": "markdown",
   "metadata": {},
   "source": [
    "### Make another dictionary called `population`.\n",
    "\n",
    "Use this data about the population of each location:\n",
    "\n",
    "* New York City: 8.399 million\n",
    "* Nassau County: 1.357 million\n",
    "* Suffolk County: 1.477 million\n",
    "* Westchester County: 967,506"
   ]
  },
  {
   "cell_type": "code",
   "execution_count": null,
   "metadata": {},
   "outputs": [],
   "source": []
  },
  {
   "cell_type": "markdown",
   "metadata": {},
   "source": [
    "### Count the total number of locations"
   ]
  },
  {
   "cell_type": "code",
   "execution_count": null,
   "metadata": {},
   "outputs": [],
   "source": []
  },
  {
   "cell_type": "markdown",
   "metadata": {},
   "source": [
    "### Calculate the per-capita number of COVID cases in New York City\n",
    "\n",
    "Use the `location` variable below."
   ]
  },
  {
   "cell_type": "code",
   "execution_count": null,
   "metadata": {},
   "outputs": [],
   "source": [
    "location = 'New York City'"
   ]
  },
  {
   "cell_type": "code",
   "execution_count": null,
   "metadata": {},
   "outputs": [],
   "source": []
  },
  {
   "cell_type": "markdown",
   "metadata": {},
   "source": [
    "### How did you feel about this section? What did you know? What was tough? What was something you feel like you know but you just couldn't make work?\n",
    "\n",
    "Write your answer as a comment in the cell below"
   ]
  },
  {
   "cell_type": "code",
   "execution_count": null,
   "metadata": {},
   "outputs": [],
   "source": [
    "## After attempting this section, it's clear I need to do more work with dictionaries."
   ]
  },
  {
   "cell_type": "markdown",
   "metadata": {},
   "source": [
    "# 📝📝📝 Data structures!!!\n",
    "\n",
    "Lists of lists and dictionaries and things like that."
   ]
  },
  {
   "cell_type": "code",
   "execution_count": 73,
   "metadata": {},
   "outputs": [],
   "source": [
    "# We can pretend this data came from an API\n",
    "\n",
    "data = {\n",
    "    'date': '2019-06-19',\n",
    "    'features': [\n",
    "        { 'city': 'Paris', 'coords': [48.85, 2.35], 'pop': 2.1 },\n",
    "        { 'city': 'Lima', 'coords': [-12.04, -77.04], 'pop': 10.7 },\n",
    "        { 'city': 'Moscow', 'coords': [55.75, 37.61], 'pop': 11.9 },\n",
    "    ] \n",
    "}"
   ]
  },
  {
   "cell_type": "markdown",
   "metadata": {},
   "source": [
    "### Print the keys that `data` has"
   ]
  },
  {
   "cell_type": "code",
   "execution_count": 74,
   "metadata": {},
   "outputs": [
    {
     "name": "stdout",
     "output_type": "stream",
     "text": [
      "dict_keys(['date', 'features'])\n"
     ]
    }
   ],
   "source": [
    "print(data.keys())"
   ]
  },
  {
   "cell_type": "markdown",
   "metadata": {},
   "source": [
    "### Print the date of the API response"
   ]
  },
  {
   "cell_type": "code",
   "execution_count": 76,
   "metadata": {},
   "outputs": [
    {
     "name": "stdout",
     "output_type": "stream",
     "text": [
      "2019-06-19\n"
     ]
    }
   ],
   "source": [
    "print(data['features'])"
   ]
  },
  {
   "cell_type": "markdown",
   "metadata": {},
   "source": [
    "### How many cities does `data` have in it?\n",
    "\n",
    "Don't just write the number, use Python to calculate it!"
   ]
  },
  {
   "cell_type": "code",
   "execution_count": 82,
   "metadata": {},
   "outputs": [
    {
     "name": "stdout",
     "output_type": "stream",
     "text": [
      "3\n"
     ]
    }
   ],
   "source": [
    "city_num = 0\n",
    "for cities in data['features']:\n",
    "    city_num = city_num + 1\n",
    "    \n",
    "print(city_num)"
   ]
  },
  {
   "cell_type": "markdown",
   "metadata": {},
   "source": [
    "### Print each city's name."
   ]
  },
  {
   "cell_type": "code",
   "execution_count": 102,
   "metadata": {},
   "outputs": [
    {
     "ename": "SyntaxError",
     "evalue": "unexpected EOF while parsing (<ipython-input-102-c99471ba101e>, line 2)",
     "output_type": "error",
     "traceback": [
      "\u001b[1;36m  File \u001b[1;32m\"<ipython-input-102-c99471ba101e>\"\u001b[1;36m, line \u001b[1;32m2\u001b[0m\n\u001b[1;33m    print((range(0,3)['city'])\u001b[0m\n\u001b[1;37m                              ^\u001b[0m\n\u001b[1;31mSyntaxError\u001b[0m\u001b[1;31m:\u001b[0m unexpected EOF while parsing\n"
     ]
    }
   ],
   "source": [
    "for city_names in data['features']:\n",
    "    print((range(0,3)['city'])"
   ]
  },
  {
   "cell_type": "markdown",
   "metadata": {},
   "source": [
    "### Print the total population"
   ]
  },
  {
   "cell_type": "code",
   "execution_count": null,
   "metadata": {},
   "outputs": [],
   "source": [
    "data['features']"
   ]
  },
  {
   "cell_type": "markdown",
   "metadata": {},
   "source": [
    "### Print each city's latitude\n",
    "\n",
    "That's the first number of the coordinates, e.g. `48.85`, `-12.04`, `55.75`."
   ]
  },
  {
   "cell_type": "code",
   "execution_count": null,
   "metadata": {},
   "outputs": [],
   "source": []
  },
  {
   "cell_type": "markdown",
   "metadata": {},
   "source": [
    "### Print the average latitude\n",
    "\n",
    "That's the first number of the coordinates, e.g. `48.85`, `-12.04`, `55.75`."
   ]
  },
  {
   "cell_type": "code",
   "execution_count": null,
   "metadata": {},
   "outputs": [],
   "source": []
  },
  {
   "cell_type": "markdown",
   "metadata": {},
   "source": [
    "### How did you feel about this section? What did you know? What was tough? What was something you feel like you know but you just couldn't make work?\n",
    "\n",
    "Write your answer as a comment in the cell below"
   ]
  },
  {
   "cell_type": "code",
   "execution_count": null,
   "metadata": {},
   "outputs": [],
   "source": [
    "## I feel bad about this section. I knew some of the answers to the first several questions, and I had a hazy idea about how to \n",
    "## solve the rest. But, I couldn't make it work."
   ]
  },
  {
   "cell_type": "markdown",
   "metadata": {},
   "source": [
    "# 📝📝📝 Pandas!\n",
    "\n",
    "**Read in `1976-2016-president.csv`.** It's state-level results for each election from 1976-2016."
   ]
  },
  {
   "cell_type": "code",
   "execution_count": 103,
   "metadata": {},
   "outputs": [],
   "source": [
    "import pandas as pd"
   ]
  },
  {
   "cell_type": "code",
   "execution_count": 104,
   "metadata": {},
   "outputs": [],
   "source": [
    "df = pd.read_csv(\"1976-2016-president.csv\")"
   ]
  },
  {
   "cell_type": "markdown",
   "metadata": {},
   "source": [
    "Note that CANDIDATE VOTES are the votes for that candidate, while TOTAL VOTES is the number of votes in that state."
   ]
  },
  {
   "cell_type": "markdown",
   "metadata": {},
   "source": [
    "### How many rows does this dataset have?"
   ]
  },
  {
   "cell_type": "code",
   "execution_count": 105,
   "metadata": {},
   "outputs": [
    {
     "data": {
      "text/plain": [
       "<bound method NDFrame.describe of       year    state state_po  state_fips  state_cen  state_ic        office  \\\n",
       "0     1976  Alabama       AL           1         63        41  US President   \n",
       "1     1976  Alabama       AL           1         63        41  US President   \n",
       "2     1976  Alabama       AL           1         63        41  US President   \n",
       "3     1976  Alabama       AL           1         63        41  US President   \n",
       "4     1976  Alabama       AL           1         63        41  US President   \n",
       "...    ...      ...      ...         ...        ...       ...           ...   \n",
       "3735  2016  Wyoming       WY          56         83        68  US President   \n",
       "3736  2016  Wyoming       WY          56         83        68  US President   \n",
       "3737  2016  Wyoming       WY          56         83        68  US President   \n",
       "3738  2016  Wyoming       WY          56         83        68  US President   \n",
       "3739  2016  Wyoming       WY          56         83        68  US President   \n",
       "\n",
       "                    candidate                       party  writein  \\\n",
       "0               Carter, Jimmy                    democrat    False   \n",
       "1                Ford, Gerald                  republican    False   \n",
       "2              Maddox, Lester  american independent party    False   \n",
       "3     Bubar, Benjamin \"\"Ben\"\"                 prohibition    False   \n",
       "4                   Hall, Gus         communist party use    False   \n",
       "...                       ...                         ...      ...   \n",
       "3735                      NaN                         NaN     True   \n",
       "3736                      NaN                 independent    False   \n",
       "3737               Blank Vote                         NaN    False   \n",
       "3738       Castle, Darrell L.          constitution party    False   \n",
       "3739                Over Vote                         NaN    False   \n",
       "\n",
       "      candidatevotes  totalvotes   version  notes  \n",
       "0             659170     1182850  20171015    NaN  \n",
       "1             504070     1182850  20171015    NaN  \n",
       "2               9198     1182850  20171015    NaN  \n",
       "3               6669     1182850  20171015    NaN  \n",
       "4               1954     1182850  20171015    NaN  \n",
       "...              ...         ...       ...    ...  \n",
       "3735            6904      258788  20171015    NaN  \n",
       "3736            3224      258788  20171015    NaN  \n",
       "3737            2661      258788  20171015    NaN  \n",
       "3738            2042      258788  20171015    NaN  \n",
       "3739             278      258788  20171015    NaN  \n",
       "\n",
       "[3740 rows x 14 columns]>"
      ]
     },
     "execution_count": 105,
     "metadata": {},
     "output_type": "execute_result"
    }
   ],
   "source": [
    "df.describe\n",
    "\n",
    "##This dataset has 3740 rows."
   ]
  },
  {
   "cell_type": "markdown",
   "metadata": {},
   "source": [
    "### How many total votes have been cast in the United States since 1976?"
   ]
  },
  {
   "cell_type": "code",
   "execution_count": 112,
   "metadata": {},
   "outputs": [
    {
     "data": {
      "text/plain": [
       "<bound method Series.sum of 0       659170\n",
       "1       504070\n",
       "2         9198\n",
       "3         6669\n",
       "4         1954\n",
       "         ...  \n",
       "3735      6904\n",
       "3736      3224\n",
       "3737      2661\n",
       "3738      2042\n",
       "3739       278\n",
       "Name: candidatevotes, Length: 3740, dtype: int64>"
      ]
     },
     "execution_count": 112,
     "metadata": {},
     "output_type": "execute_result"
    }
   ],
   "source": [
    "df['candidatevotes'].sum"
   ]
  },
  {
   "cell_type": "code",
   "execution_count": null,
   "metadata": {},
   "outputs": [],
   "source": []
  },
  {
   "cell_type": "markdown",
   "metadata": {},
   "source": [
    "### Create a new dataframe just for the 2016 election, called `df_2016`"
   ]
  },
  {
   "cell_type": "code",
   "execution_count": null,
   "metadata": {},
   "outputs": [],
   "source": []
  },
  {
   "cell_type": "markdown",
   "metadata": {},
   "source": [
    "### Show me data for Vermont in 2016\n",
    "\n",
    "Don't use `df_2016` for this - use the original dataframe."
   ]
  },
  {
   "cell_type": "code",
   "execution_count": null,
   "metadata": {},
   "outputs": [],
   "source": []
  },
  {
   "cell_type": "markdown",
   "metadata": {},
   "source": [
    "### Select every row that does NOT have a party"
   ]
  },
  {
   "cell_type": "code",
   "execution_count": null,
   "metadata": {},
   "outputs": [],
   "source": []
  },
  {
   "cell_type": "markdown",
   "metadata": {},
   "source": [
    "### How many total votes have been cast for each party?"
   ]
  },
  {
   "cell_type": "code",
   "execution_count": null,
   "metadata": {},
   "outputs": [],
   "source": []
  },
  {
   "cell_type": "markdown",
   "metadata": {},
   "source": [
    "### Create a new column called `pct_vote` that is the percent of the vote in that state the candidate received\n",
    "\n",
    "What's the difference between the two vote columns? Better read the documentation!"
   ]
  },
  {
   "cell_type": "code",
   "execution_count": null,
   "metadata": {},
   "outputs": [],
   "source": []
  },
  {
   "cell_type": "markdown",
   "metadata": {},
   "source": [
    "### Which candidate in what years got the highest percent of a state's votes?"
   ]
  },
  {
   "cell_type": "code",
   "execution_count": null,
   "metadata": {},
   "outputs": [],
   "source": []
  },
  {
   "cell_type": "markdown",
   "metadata": {},
   "source": [
    "### How did you feel about this section? What did you know? What was tough? What was something you feel like you know but you just couldn't make work?\n",
    "\n",
    "Write your answer as a comment in the cell below"
   ]
  },
  {
   "cell_type": "code",
   "execution_count": null,
   "metadata": {},
   "outputs": [],
   "source": [
    "## This is my weakest area and one I can't seem to grasp. Even the basics, for the most part, elude me."
   ]
  },
  {
   "cell_type": "markdown",
   "metadata": {},
   "source": [
    "# 📝📝📝 APIs!!!!\n",
    "\n",
    "We're going to be using the [OpenLibrary search](https://openlibrary.org/dev/docs/api/search) API.\n",
    "\n",
    "### What is the URL to search for books with \"Python\" in the name?"
   ]
  },
  {
   "cell_type": "code",
   "execution_count": 113,
   "metadata": {},
   "outputs": [],
   "source": [
    "import requests"
   ]
  },
  {
   "cell_type": "code",
   "execution_count": 122,
   "metadata": {},
   "outputs": [
    {
     "name": "stdout",
     "output_type": "stream",
     "text": [
      "<Response [200]>\n"
     ]
    }
   ],
   "source": [
    "url = \"http://openlibrary.org/search.json?q=Python\"\n",
    "response = requests.get(url, allow_redirects=True)\n",
    "data = response.json()\n",
    "print(response)"
   ]
  },
  {
   "cell_type": "markdown",
   "metadata": {},
   "source": [
    "### Search for books with `\"Python\"` in their name"
   ]
  },
  {
   "cell_type": "code",
   "execution_count": 124,
   "metadata": {},
   "outputs": [
    {
     "name": "stdout",
     "output_type": "stream",
     "text": [
      "dict_keys(['numFound', 'start', 'docs', 'num_found'])\n"
     ]
    },
    {
     "data": {
      "text/plain": [
       "1811"
      ]
     },
     "execution_count": 124,
     "metadata": {},
     "output_type": "execute_result"
    }
   ],
   "source": [
    "print(data.keys())\n"
   ]
  },
  {
   "cell_type": "markdown",
   "metadata": {},
   "source": [
    "### How many results were found?"
   ]
  },
  {
   "cell_type": "code",
   "execution_count": 126,
   "metadata": {},
   "outputs": [
    {
     "name": "stdout",
     "output_type": "stream",
     "text": [
      "There are 1,811 books with Python in their name.\n"
     ]
    }
   ],
   "source": [
    "num_of_books = data['numFound']\n",
    "print(f'There are {num_of_books:,} books with Python in their name.')"
   ]
  },
  {
   "cell_type": "markdown",
   "metadata": {},
   "source": [
    "### Print each book's title"
   ]
  },
  {
   "cell_type": "code",
   "execution_count": 128,
   "metadata": {},
   "outputs": [
    {
     "name": "stdout",
     "output_type": "stream",
     "text": [
      "0\n"
     ]
    }
   ],
   "source": [
    "print(data['start'])"
   ]
  },
  {
   "cell_type": "markdown",
   "metadata": {},
   "source": [
    "### That isn't all of the books, right? Print out some more of them.\n",
    "\n",
    "Remember, docs are [here](https://openlibrary.org/dev/docs/api/search). Read that page closely to see if you can figure it out."
   ]
  },
  {
   "cell_type": "code",
   "execution_count": null,
   "metadata": {},
   "outputs": [],
   "source": []
  },
  {
   "cell_type": "markdown",
   "metadata": {},
   "source": [
    "### What is the URL to search for books with \"Python\" in the name, and \"Lutz\" in the author name?\n",
    "\n",
    "Remember, docs are [here](https://openlibrary.org/dev/docs/api/search)."
   ]
  },
  {
   "cell_type": "code",
   "execution_count": null,
   "metadata": {},
   "outputs": [],
   "source": []
  },
  {
   "cell_type": "markdown",
   "metadata": {},
   "source": [
    "### How did you feel about this section? What did you know? What was tough? What was something you feel like you know but you just couldn't make work?\n",
    "\n",
    "Write your answer as a comment in the cell below"
   ]
  },
  {
   "cell_type": "code",
   "execution_count": null,
   "metadata": {},
   "outputs": [],
   "source": []
  },
  {
   "cell_type": "markdown",
   "metadata": {},
   "source": [
    "# 📝📝📝 SQL!!!!"
   ]
  },
  {
   "cell_type": "markdown",
   "metadata": {},
   "source": [
    "Let's say you have a table that looks like this:\n",
    "\n",
    "|food|category|rating|\n",
    "|---|---|---|\n",
    "|Apple pie|pie|3|\n",
    "|Pumpkin pie|pie|2|\n",
    "|Gingersnap|cookie|4|\n",
    "|Chocolate chip|cookie|3|\n",
    "|Birthday cake|cake|1|"
   ]
  },
  {
   "cell_type": "markdown",
   "metadata": {},
   "source": [
    "### Using SQL, return all of the rows with a rating greater than 2.5\n",
    "\n",
    "Don't actually try to run the SQL, just write the query! Use the \"code\" block and comment it out so it doesn't try to run, or put it in a string."
   ]
  },
  {
   "cell_type": "code",
   "execution_count": null,
   "metadata": {},
   "outputs": [],
   "source": []
  },
  {
   "cell_type": "markdown",
   "metadata": {},
   "source": [
    "### Using SQL, get the average rating for each category\n",
    "\n",
    "Don't actually try to run the SQL, just write the query! Use the \"code\" block and comment it out so it doesn't try to run, or put it in a string."
   ]
  },
  {
   "cell_type": "code",
   "execution_count": null,
   "metadata": {},
   "outputs": [],
   "source": []
  },
  {
   "cell_type": "markdown",
   "metadata": {},
   "source": [
    "### Using SQL, return all of the categories with an average score greater than 3\n",
    "\n",
    "Don't actually try to run the SQL, just write the query! Use the \"code\" block and comment it out so it doesn't try to run, or put it in a string."
   ]
  },
  {
   "cell_type": "code",
   "execution_count": null,
   "metadata": {},
   "outputs": [],
   "source": []
  },
  {
   "cell_type": "markdown",
   "metadata": {},
   "source": [
    "### How did you feel about this section? What did you know? What was tough? What was something you feel like you know but you just couldn't make work?\n",
    "\n",
    "Write your answer as a comment in the cell below"
   ]
  },
  {
   "cell_type": "code",
   "execution_count": null,
   "metadata": {},
   "outputs": [],
   "source": []
  }
 ],
 "metadata": {
  "kernelspec": {
   "display_name": "Python 3",
   "language": "python",
   "name": "python3"
  },
  "language_info": {
   "codemirror_mode": {
    "name": "ipython",
    "version": 3
   },
   "file_extension": ".py",
   "mimetype": "text/x-python",
   "name": "python",
   "nbconvert_exporter": "python",
   "pygments_lexer": "ipython3",
   "version": "3.8.6"
  }
 },
 "nbformat": 4,
 "nbformat_minor": 4
}
