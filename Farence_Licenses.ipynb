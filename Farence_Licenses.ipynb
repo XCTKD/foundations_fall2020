{
 "cells": [
  {
   "cell_type": "markdown",
   "metadata": {},
   "source": [
    "# Texas Licenses\n",
    "\n",
    "I originally got this dataset from the [License Files page](https://www.license.state.tx.us/licensesearch/licfile.asp) from the Texas Department of Licensing and Regulation, but they've changed around since then! I'm pretty sure it's [this dataset](https://www.opendatanetwork.com/dataset/data.texas.gov/7358-krk7), but we'll just use a local version instead of the most current."
   ]
  },
  {
   "cell_type": "markdown",
   "metadata": {},
   "source": [
    "# PART ONE: OPENING UP OUR DATASET"
   ]
  },
  {
   "cell_type": "markdown",
   "metadata": {},
   "source": [
    "## 0. Do your setup\n",
    "\n",
    "Import what you need to import, etc."
   ]
  },
  {
   "cell_type": "code",
   "execution_count": 1,
   "metadata": {},
   "outputs": [],
   "source": [
    "import pandas as pd"
   ]
  },
  {
   "cell_type": "markdown",
   "metadata": {},
   "source": [
    "## 1. Open the file\n",
    "\n",
    "We'll start with `licfile.csv`, which is a list of licenses."
   ]
  },
  {
   "cell_type": "code",
   "execution_count": 2,
   "metadata": {},
   "outputs": [
    {
     "name": "stderr",
     "output_type": "stream",
     "text": [
      "C:\\Users\\aefar\\AppData\\Local\\Programs\\Python\\Python38\\lib\\site-packages\\IPython\\core\\interactiveshell.py:3145: DtypeWarning: Columns (1,15,16) have mixed types.Specify dtype option on import or set low_memory=False.\n",
      "  has_raised = await self.run_ast_nodes(code_ast.body, cell_name,\n"
     ]
    },
    {
     "data": {
      "text/html": [
       "<div>\n",
       "<style scoped>\n",
       "    .dataframe tbody tr th:only-of-type {\n",
       "        vertical-align: middle;\n",
       "    }\n",
       "\n",
       "    .dataframe tbody tr th {\n",
       "        vertical-align: top;\n",
       "    }\n",
       "\n",
       "    .dataframe thead th {\n",
       "        text-align: right;\n",
       "    }\n",
       "</style>\n",
       "<table border=\"1\" class=\"dataframe\">\n",
       "  <thead>\n",
       "    <tr style=\"text-align: right;\">\n",
       "      <th></th>\n",
       "      <th>Associate Auctioneer</th>\n",
       "      <th>7326</th>\n",
       "      <th>ANGELINA</th>\n",
       "      <th>RISINGER, JIM MARVIN</th>\n",
       "      <th>Unnamed: 4</th>\n",
       "      <th>Unnamed: 5</th>\n",
       "      <th>Unnamed: 6</th>\n",
       "      <th>Unnamed: 7</th>\n",
       "      <th>08102017</th>\n",
       "      <th>RISINGER, JIM MARVIN.1</th>\n",
       "      <th>7668 S US HWY 59</th>\n",
       "      <th>Unnamed: 11</th>\n",
       "      <th>NACOGDOCHES TX 75964</th>\n",
       "      <th>0347</th>\n",
       "      <th>NACOGDOCHES</th>\n",
       "      <th>75964</th>\n",
       "      <th>9363665745</th>\n",
       "      <th>Unnamed: 17</th>\n",
       "      <th>N</th>\n",
       "    </tr>\n",
       "  </thead>\n",
       "  <tbody>\n",
       "    <tr>\n",
       "      <th>0</th>\n",
       "      <td>Associate Auctioneer</td>\n",
       "      <td>7962</td>\n",
       "      <td>UPSHUR</td>\n",
       "      <td>WILLIAMS, JON ANDRE</td>\n",
       "      <td>NaN</td>\n",
       "      <td>NaN</td>\n",
       "      <td>NaN</td>\n",
       "      <td>NaN</td>\n",
       "      <td>12292017</td>\n",
       "      <td>WILLIAMS, JON ANDRE</td>\n",
       "      <td>228 FM 1252</td>\n",
       "      <td>NaN</td>\n",
       "      <td>KILGORE TX 75662</td>\n",
       "      <td>183.0</td>\n",
       "      <td>GREGG</td>\n",
       "      <td>75662</td>\n",
       "      <td>9039187899</td>\n",
       "      <td>NaN</td>\n",
       "      <td>N</td>\n",
       "    </tr>\n",
       "    <tr>\n",
       "      <th>1</th>\n",
       "      <td>Associate Auctioneer</td>\n",
       "      <td>8406</td>\n",
       "      <td>WILSON</td>\n",
       "      <td>GUEVARA, JUAN ANTONIO</td>\n",
       "      <td>NaN</td>\n",
       "      <td>NaN</td>\n",
       "      <td>NaN</td>\n",
       "      <td>NaN</td>\n",
       "      <td>9262017</td>\n",
       "      <td>GUEVARA, JUAN ANTONIO</td>\n",
       "      <td>6909 HWY 181</td>\n",
       "      <td>NaN</td>\n",
       "      <td>POTH TX 78147</td>\n",
       "      <td>493.0</td>\n",
       "      <td>WILSON</td>\n",
       "      <td>78147</td>\n",
       "      <td>NaN</td>\n",
       "      <td>NaN</td>\n",
       "      <td>N</td>\n",
       "    </tr>\n",
       "    <tr>\n",
       "      <th>2</th>\n",
       "      <td>Associate Auctioneer</td>\n",
       "      <td>10543</td>\n",
       "      <td>HARRIS</td>\n",
       "      <td>BOWERS, JAMES BRISCOE II</td>\n",
       "      <td>NaN</td>\n",
       "      <td>NaN</td>\n",
       "      <td>NaN</td>\n",
       "      <td>NaN</td>\n",
       "      <td>11042017</td>\n",
       "      <td>BOWERS, JAMES BRISCOE II</td>\n",
       "      <td>6767 NORTH FWY</td>\n",
       "      <td>NaN</td>\n",
       "      <td>HOUSTON TX 77076-2027</td>\n",
       "      <td>201.0</td>\n",
       "      <td>HARRIS</td>\n",
       "      <td>77076</td>\n",
       "      <td>7136445566</td>\n",
       "      <td>NaN</td>\n",
       "      <td>N</td>\n",
       "    </tr>\n",
       "    <tr>\n",
       "      <th>3</th>\n",
       "      <td>Associate Auctioneer</td>\n",
       "      <td>10642</td>\n",
       "      <td>BELL</td>\n",
       "      <td>DEMSKY, JOHN EDWARD</td>\n",
       "      <td>NaN</td>\n",
       "      <td>NaN</td>\n",
       "      <td>NaN</td>\n",
       "      <td>NaN</td>\n",
       "      <td>2252018</td>\n",
       "      <td>DEMSKY, JOHN EDWARD</td>\n",
       "      <td>130 E CLARK ST</td>\n",
       "      <td>NaN</td>\n",
       "      <td>BARTLETT TX 76511</td>\n",
       "      <td>27.0</td>\n",
       "      <td>BELL</td>\n",
       "      <td>76511</td>\n",
       "      <td>2549852228</td>\n",
       "      <td>NaN</td>\n",
       "      <td>N</td>\n",
       "    </tr>\n",
       "    <tr>\n",
       "      <th>4</th>\n",
       "      <td>Associate Auctioneer</td>\n",
       "      <td>15650</td>\n",
       "      <td>OUT OF STATE</td>\n",
       "      <td>THOMPSON, RANDY D</td>\n",
       "      <td>NaN</td>\n",
       "      <td>NaN</td>\n",
       "      <td>NaN</td>\n",
       "      <td>NaN</td>\n",
       "      <td>5042017</td>\n",
       "      <td>THOMPSON, RANDY D</td>\n",
       "      <td>10995 BELLEVILLE RD</td>\n",
       "      <td>NaN</td>\n",
       "      <td>RINGLING OK 73456</td>\n",
       "      <td>999.0</td>\n",
       "      <td>OUT OF STATE</td>\n",
       "      <td>73456</td>\n",
       "      <td>5802765961</td>\n",
       "      <td>NaN</td>\n",
       "      <td>N</td>\n",
       "    </tr>\n",
       "  </tbody>\n",
       "</table>\n",
       "</div>"
      ],
      "text/plain": [
       "   Associate Auctioneer   7326      ANGELINA      RISINGER, JIM MARVIN  \\\n",
       "0  Associate Auctioneer   7962        UPSHUR       WILLIAMS, JON ANDRE   \n",
       "1  Associate Auctioneer   8406        WILSON     GUEVARA, JUAN ANTONIO   \n",
       "2  Associate Auctioneer  10543        HARRIS  BOWERS, JAMES BRISCOE II   \n",
       "3  Associate Auctioneer  10642          BELL       DEMSKY, JOHN EDWARD   \n",
       "4  Associate Auctioneer  15650  OUT OF STATE         THOMPSON, RANDY D   \n",
       "\n",
       "   Unnamed: 4  Unnamed: 5  Unnamed: 6  Unnamed: 7  08102017  \\\n",
       "0         NaN         NaN         NaN         NaN  12292017   \n",
       "1         NaN         NaN         NaN         NaN   9262017   \n",
       "2         NaN         NaN         NaN         NaN  11042017   \n",
       "3         NaN         NaN         NaN         NaN   2252018   \n",
       "4         NaN         NaN         NaN         NaN   5042017   \n",
       "\n",
       "     RISINGER, JIM MARVIN.1     7668 S US HWY 59 Unnamed: 11  \\\n",
       "0       WILLIAMS, JON ANDRE          228 FM 1252         NaN   \n",
       "1     GUEVARA, JUAN ANTONIO         6909 HWY 181         NaN   \n",
       "2  BOWERS, JAMES BRISCOE II       6767 NORTH FWY         NaN   \n",
       "3       DEMSKY, JOHN EDWARD       130 E CLARK ST         NaN   \n",
       "4         THOMPSON, RANDY D  10995 BELLEVILLE RD         NaN   \n",
       "\n",
       "    NACOGDOCHES TX 75964   0347   NACOGDOCHES  75964  9363665745 Unnamed: 17  \\\n",
       "0       KILGORE TX 75662  183.0         GREGG  75662  9039187899         NaN   \n",
       "1          POTH TX 78147  493.0        WILSON  78147         NaN         NaN   \n",
       "2  HOUSTON TX 77076-2027  201.0        HARRIS  77076  7136445566         NaN   \n",
       "3      BARTLETT TX 76511   27.0          BELL  76511  2549852228         NaN   \n",
       "4      RINGLING OK 73456  999.0  OUT OF STATE  73456  5802765961         NaN   \n",
       "\n",
       "   N  \n",
       "0  N  \n",
       "1  N  \n",
       "2  N  \n",
       "3  N  \n",
       "4  N  "
      ]
     },
     "execution_count": 2,
     "metadata": {},
     "output_type": "execute_result"
    }
   ],
   "source": [
    "df = pd.read_csv(\"licfile.csv\")\n",
    "\n",
    "df.head()"
   ]
  },
  {
   "cell_type": "markdown",
   "metadata": {},
   "source": [
    "## 2. That looks terrible, let's add column names.\n",
    "\n",
    "It apparently doesn't have headers! **Read the file in again, but setting your own column names**. Their [current data dictionary might not perfectly match](https://www.opendatanetwork.com/dataset/data.texas.gov/7358-krk7), but you can use it to understand what the columns are. For the dataset we're using, the order goes like this:\n",
    "\n",
    "* LICTYPE\n",
    "* LICNUMBER\n",
    "* BIZCOUNTY\n",
    "* BIZNAME\n",
    "* BIZLINE1\n",
    "* BIZLINE2\n",
    "* BIZCITYSTATE\n",
    "* BIZTELEPHONE\n",
    "* EXPIRATION\n",
    "* OWNER\n",
    "* MAILLINE1\n",
    "* MAILLINE2\n",
    "* MAILCITYSTATE\n",
    "* MAILCOUNTYCODE\n",
    "* MAILCOUNTY\n",
    "* MAILZIP\n",
    "* TELEPHONE\n",
    "* LICSUBTYPE\n",
    "* CEFLAG\n",
    "\n",
    "**Note:** You can rename the columns to things that make sense - \"expiration\" is a little more manageable than \"LICENSE EXPIRATION DATE (MMDDCCYY)\". I've named my License Type column LICTYPE, so if you haven't you'll have to change the rest of my sample code to match."
   ]
  },
  {
   "cell_type": "code",
   "execution_count": 3,
   "metadata": {},
   "outputs": [
    {
     "name": "stderr",
     "output_type": "stream",
     "text": [
      "C:\\Users\\aefar\\AppData\\Local\\Programs\\Python\\Python38\\lib\\site-packages\\IPython\\core\\interactiveshell.py:3145: DtypeWarning: Columns (1,15,16) have mixed types.Specify dtype option on import or set low_memory=False.\n",
      "  has_raised = await self.run_ast_nodes(code_ast.body, cell_name,\n"
     ]
    },
    {
     "data": {
      "text/html": [
       "<div>\n",
       "<style scoped>\n",
       "    .dataframe tbody tr th:only-of-type {\n",
       "        vertical-align: middle;\n",
       "    }\n",
       "\n",
       "    .dataframe tbody tr th {\n",
       "        vertical-align: top;\n",
       "    }\n",
       "\n",
       "    .dataframe thead th {\n",
       "        text-align: right;\n",
       "    }\n",
       "</style>\n",
       "<table border=\"1\" class=\"dataframe\">\n",
       "  <thead>\n",
       "    <tr style=\"text-align: right;\">\n",
       "      <th></th>\n",
       "      <th>LICTYPE</th>\n",
       "      <th>LICNUMBER</th>\n",
       "      <th>BIZCOUNTY</th>\n",
       "      <th>BIZNAME</th>\n",
       "      <th>BIZLINE1</th>\n",
       "      <th>BIZLINE2</th>\n",
       "      <th>BIZCITYSTATE</th>\n",
       "      <th>BIZTELEPHONE</th>\n",
       "      <th>EXPIRATION</th>\n",
       "      <th>OWNER</th>\n",
       "      <th>MAILLINE1</th>\n",
       "      <th>MAILINE2</th>\n",
       "      <th>MAILCITYSTATE</th>\n",
       "      <th>MAILCOUNTYCODE</th>\n",
       "      <th>MAILCOUNTY</th>\n",
       "      <th>MAILZIP</th>\n",
       "      <th>TELEPHONE</th>\n",
       "      <th>LICSUBTYPE</th>\n",
       "      <th>CEFLAG</th>\n",
       "    </tr>\n",
       "  </thead>\n",
       "  <tbody>\n",
       "    <tr>\n",
       "      <th>0</th>\n",
       "      <td>Associate Auctioneer</td>\n",
       "      <td>7326</td>\n",
       "      <td>ANGELINA</td>\n",
       "      <td>RISINGER, JIM MARVIN</td>\n",
       "      <td>NaN</td>\n",
       "      <td>NaN</td>\n",
       "      <td>NaN</td>\n",
       "      <td>NaN</td>\n",
       "      <td>8102017</td>\n",
       "      <td>RISINGER, JIM MARVIN</td>\n",
       "      <td>7668 S US HWY 59</td>\n",
       "      <td>NaN</td>\n",
       "      <td>NACOGDOCHES TX 75964</td>\n",
       "      <td>347.0</td>\n",
       "      <td>NACOGDOCHES</td>\n",
       "      <td>75964</td>\n",
       "      <td>9363665745</td>\n",
       "      <td>NaN</td>\n",
       "      <td>N</td>\n",
       "    </tr>\n",
       "    <tr>\n",
       "      <th>1</th>\n",
       "      <td>Associate Auctioneer</td>\n",
       "      <td>7962</td>\n",
       "      <td>UPSHUR</td>\n",
       "      <td>WILLIAMS, JON ANDRE</td>\n",
       "      <td>NaN</td>\n",
       "      <td>NaN</td>\n",
       "      <td>NaN</td>\n",
       "      <td>NaN</td>\n",
       "      <td>12292017</td>\n",
       "      <td>WILLIAMS, JON ANDRE</td>\n",
       "      <td>228 FM 1252</td>\n",
       "      <td>NaN</td>\n",
       "      <td>KILGORE TX 75662</td>\n",
       "      <td>183.0</td>\n",
       "      <td>GREGG</td>\n",
       "      <td>75662</td>\n",
       "      <td>9039187899</td>\n",
       "      <td>NaN</td>\n",
       "      <td>N</td>\n",
       "    </tr>\n",
       "    <tr>\n",
       "      <th>2</th>\n",
       "      <td>Associate Auctioneer</td>\n",
       "      <td>8406</td>\n",
       "      <td>WILSON</td>\n",
       "      <td>GUEVARA, JUAN ANTONIO</td>\n",
       "      <td>NaN</td>\n",
       "      <td>NaN</td>\n",
       "      <td>NaN</td>\n",
       "      <td>NaN</td>\n",
       "      <td>9262017</td>\n",
       "      <td>GUEVARA, JUAN ANTONIO</td>\n",
       "      <td>6909 HWY 181</td>\n",
       "      <td>NaN</td>\n",
       "      <td>POTH TX 78147</td>\n",
       "      <td>493.0</td>\n",
       "      <td>WILSON</td>\n",
       "      <td>78147</td>\n",
       "      <td>NaN</td>\n",
       "      <td>NaN</td>\n",
       "      <td>N</td>\n",
       "    </tr>\n",
       "    <tr>\n",
       "      <th>3</th>\n",
       "      <td>Associate Auctioneer</td>\n",
       "      <td>10543</td>\n",
       "      <td>HARRIS</td>\n",
       "      <td>BOWERS, JAMES BRISCOE II</td>\n",
       "      <td>NaN</td>\n",
       "      <td>NaN</td>\n",
       "      <td>NaN</td>\n",
       "      <td>NaN</td>\n",
       "      <td>11042017</td>\n",
       "      <td>BOWERS, JAMES BRISCOE II</td>\n",
       "      <td>6767 NORTH FWY</td>\n",
       "      <td>NaN</td>\n",
       "      <td>HOUSTON TX 77076-2027</td>\n",
       "      <td>201.0</td>\n",
       "      <td>HARRIS</td>\n",
       "      <td>77076</td>\n",
       "      <td>7136445566</td>\n",
       "      <td>NaN</td>\n",
       "      <td>N</td>\n",
       "    </tr>\n",
       "    <tr>\n",
       "      <th>4</th>\n",
       "      <td>Associate Auctioneer</td>\n",
       "      <td>10642</td>\n",
       "      <td>BELL</td>\n",
       "      <td>DEMSKY, JOHN EDWARD</td>\n",
       "      <td>NaN</td>\n",
       "      <td>NaN</td>\n",
       "      <td>NaN</td>\n",
       "      <td>NaN</td>\n",
       "      <td>2252018</td>\n",
       "      <td>DEMSKY, JOHN EDWARD</td>\n",
       "      <td>130 E CLARK ST</td>\n",
       "      <td>NaN</td>\n",
       "      <td>BARTLETT TX 76511</td>\n",
       "      <td>27.0</td>\n",
       "      <td>BELL</td>\n",
       "      <td>76511</td>\n",
       "      <td>2549852228</td>\n",
       "      <td>NaN</td>\n",
       "      <td>N</td>\n",
       "    </tr>\n",
       "  </tbody>\n",
       "</table>\n",
       "</div>"
      ],
      "text/plain": [
       "                LICTYPE LICNUMBER BIZCOUNTY                   BIZNAME  \\\n",
       "0  Associate Auctioneer      7326  ANGELINA      RISINGER, JIM MARVIN   \n",
       "1  Associate Auctioneer      7962    UPSHUR       WILLIAMS, JON ANDRE   \n",
       "2  Associate Auctioneer      8406    WILSON     GUEVARA, JUAN ANTONIO   \n",
       "3  Associate Auctioneer     10543    HARRIS  BOWERS, JAMES BRISCOE II   \n",
       "4  Associate Auctioneer     10642      BELL       DEMSKY, JOHN EDWARD   \n",
       "\n",
       "   BIZLINE1  BIZLINE2  BIZCITYSTATE  BIZTELEPHONE  EXPIRATION  \\\n",
       "0       NaN       NaN           NaN           NaN     8102017   \n",
       "1       NaN       NaN           NaN           NaN    12292017   \n",
       "2       NaN       NaN           NaN           NaN     9262017   \n",
       "3       NaN       NaN           NaN           NaN    11042017   \n",
       "4       NaN       NaN           NaN           NaN     2252018   \n",
       "\n",
       "                      OWNER         MAILLINE1 MAILINE2          MAILCITYSTATE  \\\n",
       "0      RISINGER, JIM MARVIN  7668 S US HWY 59      NaN   NACOGDOCHES TX 75964   \n",
       "1       WILLIAMS, JON ANDRE       228 FM 1252      NaN       KILGORE TX 75662   \n",
       "2     GUEVARA, JUAN ANTONIO      6909 HWY 181      NaN          POTH TX 78147   \n",
       "3  BOWERS, JAMES BRISCOE II    6767 NORTH FWY      NaN  HOUSTON TX 77076-2027   \n",
       "4       DEMSKY, JOHN EDWARD    130 E CLARK ST      NaN      BARTLETT TX 76511   \n",
       "\n",
       "   MAILCOUNTYCODE   MAILCOUNTY MAILZIP   TELEPHONE LICSUBTYPE CEFLAG  \n",
       "0           347.0  NACOGDOCHES   75964  9363665745        NaN      N  \n",
       "1           183.0        GREGG   75662  9039187899        NaN      N  \n",
       "2           493.0       WILSON   78147         NaN        NaN      N  \n",
       "3           201.0       HARRIS   77076  7136445566        NaN      N  \n",
       "4            27.0         BELL   76511  2549852228        NaN      N  "
      ]
     },
     "execution_count": 3,
     "metadata": {},
     "output_type": "execute_result"
    }
   ],
   "source": [
    "df = pd.read_csv(\"licfile.csv\", names = ['LICTYPE','LICNUMBER','BIZCOUNTY','BIZNAME','BIZLINE1',\n",
    "                                         'BIZLINE2','BIZCITYSTATE','BIZTELEPHONE','EXPIRATION',\n",
    "                                         'OWNER','MAILLINE1','MAILINE2','MAILCITYSTATE','MAILCOUNTYCODE',\n",
    "                                         'MAILCOUNTY','MAILZIP','TELEPHONE','LICSUBTYPE','CEFLAG'])\n",
    "df.head()"
   ]
  },
  {
   "cell_type": "markdown",
   "metadata": {},
   "source": [
    "# 3. Force string columns to be strings\n",
    "\n",
    "The county code and expiration dates are being read in as numbers, which is going to cause some trouble later on. You can force a column to be a certain type (most usually strings) when reading it in with the following code:\n",
    "\n",
    "    df = pd.read_csv(\"your-filename.csv\", dtype={\"colname1\": str, \"colname2\": str})\n",
    "\n",
    "You don't need to do it for every column, just the ones you want to force!\n",
    "\n",
    "**Re-import the file, forcing the expiration date, license number, mailing address county code, mailing zip code and telephone to all be strings.**"
   ]
  },
  {
   "cell_type": "code",
   "execution_count": 4,
   "metadata": {},
   "outputs": [],
   "source": [
    "df = pd.read_csv(\"licfile.csv\",names = ['LICTYPE','LICNUMBER','BIZCOUNTY','BIZNAME','BIZLINE1',\n",
    "                                         'BIZLINE2','BIZCITYSTATE','BIZTELEPHONE','EXPIRATION',\n",
    "                                         'OWNER','MAILLINE1','MAILINE2','MAILCITYSTATE','MAILCOUNTYCODE',\n",
    "                                         'MAILCOUNTY','MAILZIP','TELEPHONE','LICSUBTYPE','CEFLAG'], \n",
    "                 dtype={'EXPIRATION':str,'LICNUMBER':str,'MAILCOUNTYCODE':str,'MAILZIP':str,\n",
    "                        'TELEPHONE':str})"
   ]
  },
  {
   "cell_type": "markdown",
   "metadata": {},
   "source": [
    "Check the data types of your columns to be sure! If you do it right they'll be `object` (not `str`, oddly)."
   ]
  },
  {
   "cell_type": "code",
   "execution_count": 5,
   "metadata": {},
   "outputs": [
    {
     "data": {
      "text/plain": [
       "LICTYPE            object\n",
       "LICNUMBER          object\n",
       "BIZCOUNTY          object\n",
       "BIZNAME            object\n",
       "BIZLINE1          float64\n",
       "BIZLINE2          float64\n",
       "BIZCITYSTATE      float64\n",
       "BIZTELEPHONE      float64\n",
       "EXPIRATION         object\n",
       "OWNER              object\n",
       "MAILLINE1          object\n",
       "MAILINE2           object\n",
       "MAILCITYSTATE      object\n",
       "MAILCOUNTYCODE     object\n",
       "MAILCOUNTY         object\n",
       "MAILZIP            object\n",
       "TELEPHONE          object\n",
       "LICSUBTYPE         object\n",
       "CEFLAG             object\n",
       "dtype: object"
      ]
     },
     "execution_count": 5,
     "metadata": {},
     "output_type": "execute_result"
    }
   ],
   "source": [
    "df.dtypes"
   ]
  },
  {
   "cell_type": "markdown",
   "metadata": {},
   "source": [
    "## 4. Convert those expiration dates from MMDDYYYY to YYYY-MM-DD\n",
    "\n",
    "You can use list slicing with `.str` (we did `dt.per_name.str[:4]` for the home data stuff once), `pd.to_datetime`, or a hundred other methods."
   ]
  },
  {
   "cell_type": "code",
   "execution_count": 6,
   "metadata": {},
   "outputs": [],
   "source": [
    "df['EXPIRATION'] = pd.to_datetime(df['EXPIRATION'], exact=False, format='%y%m%d')"
   ]
  },
  {
   "cell_type": "markdown",
   "metadata": {},
   "source": [
    "Check the first five expirations to make sure they look right."
   ]
  },
  {
   "cell_type": "code",
   "execution_count": 7,
   "metadata": {},
   "outputs": [
    {
     "data": {
      "text/plain": [
       "0        2008-10-20\n",
       "1        2012-02-09\n",
       "2        2009-02-06\n",
       "3        2011-04-20\n",
       "4        2002-02-05\n",
       "            ...    \n",
       "597811   2001-02-03\n",
       "597812   2001-02-03\n",
       "597813   2001-02-07\n",
       "597814   2002-01-03\n",
       "597815   2002-01-06\n",
       "Name: EXPIRATION, Length: 597816, dtype: datetime64[ns]"
      ]
     },
     "execution_count": 7,
     "metadata": {},
     "output_type": "execute_result"
    }
   ],
   "source": [
    "df.EXPIRATION"
   ]
  },
  {
   "cell_type": "markdown",
   "metadata": {},
   "source": [
    "# PART TWO: LOOKING AT LICENSES"
   ]
  },
  {
   "cell_type": "markdown",
   "metadata": {},
   "source": [
    "## 5. What are the top 10 most common licenses?"
   ]
  },
  {
   "cell_type": "code",
   "execution_count": 8,
   "metadata": {},
   "outputs": [
    {
     "data": {
      "text/plain": [
       "Cosmetology Operator                              151206\n",
       "Apprentice Electrician                            110593\n",
       "Cosmetology Manicurist                             49563\n",
       "Journeyman Electrician                             38170\n",
       "A/C Technician                                     27959\n",
       "                                                   ...  \n",
       "Mobile Cosmetology Manicure Specialty Saloon           2\n",
       "Cosmetology Wig Instructor                             2\n",
       "Mobile Cosmetology Esthetician/Manicure Saloon         2\n",
       "Licensed Court Interpreter CE Provider                 2\n",
       "Legal Service Contract Admin                           1\n",
       "Name: LICTYPE, Length: 103, dtype: int64"
      ]
     },
     "execution_count": 8,
     "metadata": {},
     "output_type": "execute_result"
    }
   ],
   "source": [
    "df.LICTYPE.value_counts()"
   ]
  },
  {
   "cell_type": "markdown",
   "metadata": {},
   "source": [
    "## 6. What are the top 10 least common?"
   ]
  },
  {
   "cell_type": "code",
   "execution_count": 9,
   "metadata": {},
   "outputs": [
    {
     "data": {
      "text/plain": [
       "Elevator Responsible Party CE Provider             8\n",
       "Mobile Cosmetology Esthetician Specialty Saloon    5\n",
       "Barber Hair Braiding Shop                          4\n",
       "Barber Hair Weaving Shop                           4\n",
       "Booting CE Provider                                3\n",
       "Mobile Cosmetology Manicure Specialty Saloon       2\n",
       "Cosmetology Wig Instructor                         2\n",
       "Mobile Cosmetology Esthetician/Manicure Saloon     2\n",
       "Licensed Court Interpreter CE Provider             2\n",
       "Legal Service Contract Admin                       1\n",
       "Name: LICTYPE, dtype: int64"
      ]
     },
     "execution_count": 9,
     "metadata": {},
     "output_type": "execute_result"
    }
   ],
   "source": [
    "df.LICTYPE.value_counts(ascending=True).sort_values().head(10).sort_values(ascending=False)"
   ]
  },
  {
   "cell_type": "markdown",
   "metadata": {},
   "source": [
    "## 7. Try to select everyone who is any type of electrician.\n",
    "\n",
    "You're going to get an error about `\"cannot index with vector containing NA / NaN values\"`. Let's work our way in there."
   ]
  },
  {
   "cell_type": "code",
   "execution_count": 10,
   "metadata": {},
   "outputs": [],
   "source": [
    "# Yes I know I left this in here, it's a learning experience!\n",
    "#df[df['LICTYPE'].str.contains(\"Electrician\")]"
   ]
  },
  {
   "cell_type": "markdown",
   "metadata": {},
   "source": [
    "## 8. How many of the rows of LICTYPE are NaN?"
   ]
  },
  {
   "cell_type": "code",
   "execution_count": 11,
   "metadata": {},
   "outputs": [
    {
     "data": {
      "text/plain": [
       "7086"
      ]
     },
     "execution_count": 11,
     "metadata": {},
     "output_type": "execute_result"
    }
   ],
   "source": [
    "df['LICTYPE'].isnull().sum()"
   ]
  },
  {
   "cell_type": "markdown",
   "metadata": {},
   "source": [
    "Over 7000 licenses don't have types! As a result, when we look for license types with electricians - aka do `df['LICTYPE'].str.contains(\"Electrician\")` - we get three results:\n",
    "\n",
    "* `True` means `LICTYPE` exists and contains `\"Electrician\"`\n",
    "* `False` means `LICTYPE` exists and does not contain `\"Electrician\"`\n",
    "* `NaN` means `LICTYPE` does not exist for that row"
   ]
  },
  {
   "cell_type": "markdown",
   "metadata": {},
   "source": [
    "## 9. Actually getting everyone who is an electrician"
   ]
  },
  {
   "cell_type": "markdown",
   "metadata": {},
   "source": [
    "This doesn't work when trying to select electricians, though, as NaN is a no-go for a filter. We *could* filter out everywhere the LICTYPE is null, but we could also cheat a little and say \"replace all of the `NaN` values with `False` values.\"\n",
    "\n",
    "`.fillna(False)` will take every `NaN` and replace it with `False`. "
   ]
  },
  {
   "cell_type": "code",
   "execution_count": 12,
   "metadata": {},
   "outputs": [
    {
     "data": {
      "text/plain": [
       "0                      Associate Auctioneer\n",
       "1                      Associate Auctioneer\n",
       "2                      Associate Auctioneer\n",
       "3                      Associate Auctioneer\n",
       "4                      Associate Auctioneer\n",
       "                        ...                \n",
       "597811    Water Well Driller/Pump Installer\n",
       "597812    Water Well Driller/Pump Installer\n",
       "597813    Water Well Driller/Pump Installer\n",
       "597814    Water Well Driller/Pump Installer\n",
       "597815    Water Well Driller/Pump Installer\n",
       "Name: LICTYPE, Length: 597816, dtype: object"
      ]
     },
     "execution_count": 12,
     "metadata": {},
     "output_type": "execute_result"
    }
   ],
   "source": [
    "df.LICTYPE.fillna(False)"
   ]
  },
  {
   "cell_type": "code",
   "execution_count": 13,
   "metadata": {},
   "outputs": [
    {
     "data": {
      "text/html": [
       "<div>\n",
       "<style scoped>\n",
       "    .dataframe tbody tr th:only-of-type {\n",
       "        vertical-align: middle;\n",
       "    }\n",
       "\n",
       "    .dataframe tbody tr th {\n",
       "        vertical-align: top;\n",
       "    }\n",
       "\n",
       "    .dataframe thead th {\n",
       "        text-align: right;\n",
       "    }\n",
       "</style>\n",
       "<table border=\"1\" class=\"dataframe\">\n",
       "  <thead>\n",
       "    <tr style=\"text-align: right;\">\n",
       "      <th></th>\n",
       "      <th>LICTYPE</th>\n",
       "      <th>LICNUMBER</th>\n",
       "      <th>BIZCOUNTY</th>\n",
       "      <th>BIZNAME</th>\n",
       "      <th>BIZLINE1</th>\n",
       "      <th>BIZLINE2</th>\n",
       "      <th>BIZCITYSTATE</th>\n",
       "      <th>BIZTELEPHONE</th>\n",
       "      <th>EXPIRATION</th>\n",
       "      <th>OWNER</th>\n",
       "      <th>MAILLINE1</th>\n",
       "      <th>MAILINE2</th>\n",
       "      <th>MAILCITYSTATE</th>\n",
       "      <th>MAILCOUNTYCODE</th>\n",
       "      <th>MAILCOUNTY</th>\n",
       "      <th>MAILZIP</th>\n",
       "      <th>TELEPHONE</th>\n",
       "      <th>LICSUBTYPE</th>\n",
       "      <th>CEFLAG</th>\n",
       "    </tr>\n",
       "  </thead>\n",
       "  <tbody>\n",
       "    <tr>\n",
       "      <th>47025</th>\n",
       "      <td>Apprentice Electrician</td>\n",
       "      <td>30244</td>\n",
       "      <td>ROBERTSON</td>\n",
       "      <td>BOLTON, MARION N</td>\n",
       "      <td>NaN</td>\n",
       "      <td>NaN</td>\n",
       "      <td>NaN</td>\n",
       "      <td>NaN</td>\n",
       "      <td>2005-02-07</td>\n",
       "      <td>BOLTON, MARION N</td>\n",
       "      <td>2262 HARBOR BOLTON RD</td>\n",
       "      <td>NaN</td>\n",
       "      <td>FRANKLIN TX 77856-5367</td>\n",
       "      <td>0395</td>\n",
       "      <td>ROBERTSON</td>\n",
       "      <td>77856</td>\n",
       "      <td>9798284713</td>\n",
       "      <td>AE</td>\n",
       "      <td>N</td>\n",
       "    </tr>\n",
       "    <tr>\n",
       "      <th>47026</th>\n",
       "      <td>Apprentice Electrician</td>\n",
       "      <td>30798</td>\n",
       "      <td>BEXAR</td>\n",
       "      <td>GONZALEZ, FELIX G JR</td>\n",
       "      <td>NaN</td>\n",
       "      <td>NaN</td>\n",
       "      <td>NaN</td>\n",
       "      <td>NaN</td>\n",
       "      <td>2010-02-12</td>\n",
       "      <td>GONZALEZ, FELIX G JR</td>\n",
       "      <td>8507 TIMBER BELT</td>\n",
       "      <td>NaN</td>\n",
       "      <td>SAN ANTONIO TX 78250-4478</td>\n",
       "      <td>0029</td>\n",
       "      <td>BEXAR</td>\n",
       "      <td>78250</td>\n",
       "      <td>2104887491</td>\n",
       "      <td>AE</td>\n",
       "      <td>N</td>\n",
       "    </tr>\n",
       "    <tr>\n",
       "      <th>47027</th>\n",
       "      <td>Apprentice Electrician</td>\n",
       "      <td>30802</td>\n",
       "      <td>HARRIS</td>\n",
       "      <td>HERNANDEZ, RUFINO</td>\n",
       "      <td>NaN</td>\n",
       "      <td>NaN</td>\n",
       "      <td>NaN</td>\n",
       "      <td>NaN</td>\n",
       "      <td>2005-02-08</td>\n",
       "      <td>HERNANDEZ, RUFINO</td>\n",
       "      <td>1719 ROBINHOOD ST</td>\n",
       "      <td>NaN</td>\n",
       "      <td>PASADENA TX 77502-2218</td>\n",
       "      <td>0201</td>\n",
       "      <td>HARRIS</td>\n",
       "      <td>77502</td>\n",
       "      <td>7133824802</td>\n",
       "      <td>AE</td>\n",
       "      <td>N</td>\n",
       "    </tr>\n",
       "    <tr>\n",
       "      <th>47028</th>\n",
       "      <td>Apprentice Electrician</td>\n",
       "      <td>31875</td>\n",
       "      <td>TITUS</td>\n",
       "      <td>COPELAND, MARCUS A</td>\n",
       "      <td>NaN</td>\n",
       "      <td>NaN</td>\n",
       "      <td>NaN</td>\n",
       "      <td>NaN</td>\n",
       "      <td>2006-01-08</td>\n",
       "      <td>COPELAND, MARCUS A</td>\n",
       "      <td>201 N MADISON AVE</td>\n",
       "      <td>NaN</td>\n",
       "      <td>MOUNT PLEASANT TX 75455-3944</td>\n",
       "      <td>0449</td>\n",
       "      <td>TITUS</td>\n",
       "      <td>75455</td>\n",
       "      <td>9035634950</td>\n",
       "      <td>AE</td>\n",
       "      <td>N</td>\n",
       "    </tr>\n",
       "    <tr>\n",
       "      <th>47029</th>\n",
       "      <td>Apprentice Electrician</td>\n",
       "      <td>31876</td>\n",
       "      <td>TITUS</td>\n",
       "      <td>ANGLIN, DAVID LEE</td>\n",
       "      <td>NaN</td>\n",
       "      <td>NaN</td>\n",
       "      <td>NaN</td>\n",
       "      <td>NaN</td>\n",
       "      <td>2010-02-06</td>\n",
       "      <td>ANGLIN, DAVID LEE</td>\n",
       "      <td>8066 FM 1001</td>\n",
       "      <td>NaN</td>\n",
       "      <td>COOKVILLE TX 75558-3064</td>\n",
       "      <td>0449</td>\n",
       "      <td>TITUS</td>\n",
       "      <td>75558</td>\n",
       "      <td>9039462547</td>\n",
       "      <td>AE</td>\n",
       "      <td>N</td>\n",
       "    </tr>\n",
       "    <tr>\n",
       "      <th>...</th>\n",
       "      <td>...</td>\n",
       "      <td>...</td>\n",
       "      <td>...</td>\n",
       "      <td>...</td>\n",
       "      <td>...</td>\n",
       "      <td>...</td>\n",
       "      <td>...</td>\n",
       "      <td>...</td>\n",
       "      <td>...</td>\n",
       "      <td>...</td>\n",
       "      <td>...</td>\n",
       "      <td>...</td>\n",
       "      <td>...</td>\n",
       "      <td>...</td>\n",
       "      <td>...</td>\n",
       "      <td>...</td>\n",
       "      <td>...</td>\n",
       "      <td>...</td>\n",
       "      <td>...</td>\n",
       "    </tr>\n",
       "    <tr>\n",
       "      <th>569544</th>\n",
       "      <td>Apprentice Sign Electrician</td>\n",
       "      <td>393609</td>\n",
       "      <td>PARKER</td>\n",
       "      <td>ORTEGA, JUAN</td>\n",
       "      <td>NaN</td>\n",
       "      <td>NaN</td>\n",
       "      <td>NaN</td>\n",
       "      <td>NaN</td>\n",
       "      <td>2003-01-20</td>\n",
       "      <td>ORTEGA, JUAN</td>\n",
       "      <td>128 JUAN CT</td>\n",
       "      <td>NaN</td>\n",
       "      <td>HUDSON OAKS TX 76087-8337</td>\n",
       "      <td>0367</td>\n",
       "      <td>PARKER</td>\n",
       "      <td>76087</td>\n",
       "      <td>8173746117</td>\n",
       "      <td>SA</td>\n",
       "      <td>N</td>\n",
       "    </tr>\n",
       "    <tr>\n",
       "      <th>569545</th>\n",
       "      <td>Apprentice Sign Electrician</td>\n",
       "      <td>393610</td>\n",
       "      <td>OUT OF STATE</td>\n",
       "      <td>BARR, SYLVIA M</td>\n",
       "      <td>NaN</td>\n",
       "      <td>NaN</td>\n",
       "      <td>NaN</td>\n",
       "      <td>NaN</td>\n",
       "      <td>2003-01-20</td>\n",
       "      <td>BARR, SYLVIA M</td>\n",
       "      <td>1015 RIVERVIEW DR</td>\n",
       "      <td>NaN</td>\n",
       "      <td>FAIRMONT WV 26554-8309</td>\n",
       "      <td>0999</td>\n",
       "      <td>OUT OF STATE</td>\n",
       "      <td>26554</td>\n",
       "      <td>3047779007</td>\n",
       "      <td>SA</td>\n",
       "      <td>N</td>\n",
       "    </tr>\n",
       "    <tr>\n",
       "      <th>569546</th>\n",
       "      <td>Apprentice Sign Electrician</td>\n",
       "      <td>393611</td>\n",
       "      <td>OUT OF STATE</td>\n",
       "      <td>MALFAVON, SALVADOR H</td>\n",
       "      <td>NaN</td>\n",
       "      <td>NaN</td>\n",
       "      <td>NaN</td>\n",
       "      <td>NaN</td>\n",
       "      <td>2003-01-20</td>\n",
       "      <td>MALFAVON, SALVADOR H</td>\n",
       "      <td>1237 E CENTER ST</td>\n",
       "      <td>NaN</td>\n",
       "      <td>KINGSPORT TN 37660-4945</td>\n",
       "      <td>0999</td>\n",
       "      <td>OUT OF STATE</td>\n",
       "      <td>37660</td>\n",
       "      <td>4237656317</td>\n",
       "      <td>SA</td>\n",
       "      <td>N</td>\n",
       "    </tr>\n",
       "    <tr>\n",
       "      <th>569547</th>\n",
       "      <td>Apprentice Sign Electrician</td>\n",
       "      <td>393612</td>\n",
       "      <td>WICHITA</td>\n",
       "      <td>ARANDA, JOSE A SR</td>\n",
       "      <td>NaN</td>\n",
       "      <td>NaN</td>\n",
       "      <td>NaN</td>\n",
       "      <td>NaN</td>\n",
       "      <td>2003-01-20</td>\n",
       "      <td>ARANDA, JOSE A SR</td>\n",
       "      <td>1108 IRELAND ST</td>\n",
       "      <td>NaN</td>\n",
       "      <td>WICHITA FALLS TX 76301-7837</td>\n",
       "      <td>0485</td>\n",
       "      <td>WICHITA</td>\n",
       "      <td>76301</td>\n",
       "      <td>9408674318</td>\n",
       "      <td>SA</td>\n",
       "      <td>N</td>\n",
       "    </tr>\n",
       "    <tr>\n",
       "      <th>569548</th>\n",
       "      <td>Apprentice Sign Electrician</td>\n",
       "      <td>393613</td>\n",
       "      <td>ORANGE</td>\n",
       "      <td>ORTIZ, CARLOS M</td>\n",
       "      <td>NaN</td>\n",
       "      <td>NaN</td>\n",
       "      <td>NaN</td>\n",
       "      <td>NaN</td>\n",
       "      <td>2003-01-20</td>\n",
       "      <td>ORTIZ, CARLOS M</td>\n",
       "      <td>480 BLAND DR</td>\n",
       "      <td>NaN</td>\n",
       "      <td>BRIDGE CITY TX 77611-4614</td>\n",
       "      <td>0361</td>\n",
       "      <td>ORANGE</td>\n",
       "      <td>77611</td>\n",
       "      <td>4093133718</td>\n",
       "      <td>SA</td>\n",
       "      <td>N</td>\n",
       "    </tr>\n",
       "  </tbody>\n",
       "</table>\n",
       "<p>171838 rows × 19 columns</p>\n",
       "</div>"
      ],
      "text/plain": [
       "                            LICTYPE LICNUMBER     BIZCOUNTY  \\\n",
       "47025        Apprentice Electrician     30244     ROBERTSON   \n",
       "47026        Apprentice Electrician     30798         BEXAR   \n",
       "47027        Apprentice Electrician     30802        HARRIS   \n",
       "47028        Apprentice Electrician     31875         TITUS   \n",
       "47029        Apprentice Electrician     31876         TITUS   \n",
       "...                             ...       ...           ...   \n",
       "569544  Apprentice Sign Electrician    393609        PARKER   \n",
       "569545  Apprentice Sign Electrician    393610  OUT OF STATE   \n",
       "569546  Apprentice Sign Electrician    393611  OUT OF STATE   \n",
       "569547  Apprentice Sign Electrician    393612       WICHITA   \n",
       "569548  Apprentice Sign Electrician    393613        ORANGE   \n",
       "\n",
       "                     BIZNAME  BIZLINE1  BIZLINE2  BIZCITYSTATE  BIZTELEPHONE  \\\n",
       "47025       BOLTON, MARION N       NaN       NaN           NaN           NaN   \n",
       "47026   GONZALEZ, FELIX G JR       NaN       NaN           NaN           NaN   \n",
       "47027      HERNANDEZ, RUFINO       NaN       NaN           NaN           NaN   \n",
       "47028     COPELAND, MARCUS A       NaN       NaN           NaN           NaN   \n",
       "47029      ANGLIN, DAVID LEE       NaN       NaN           NaN           NaN   \n",
       "...                      ...       ...       ...           ...           ...   \n",
       "569544          ORTEGA, JUAN       NaN       NaN           NaN           NaN   \n",
       "569545        BARR, SYLVIA M       NaN       NaN           NaN           NaN   \n",
       "569546  MALFAVON, SALVADOR H       NaN       NaN           NaN           NaN   \n",
       "569547     ARANDA, JOSE A SR       NaN       NaN           NaN           NaN   \n",
       "569548       ORTIZ, CARLOS M       NaN       NaN           NaN           NaN   \n",
       "\n",
       "       EXPIRATION                 OWNER              MAILLINE1 MAILINE2  \\\n",
       "47025  2005-02-07      BOLTON, MARION N  2262 HARBOR BOLTON RD      NaN   \n",
       "47026  2010-02-12  GONZALEZ, FELIX G JR       8507 TIMBER BELT      NaN   \n",
       "47027  2005-02-08     HERNANDEZ, RUFINO      1719 ROBINHOOD ST      NaN   \n",
       "47028  2006-01-08    COPELAND, MARCUS A      201 N MADISON AVE      NaN   \n",
       "47029  2010-02-06     ANGLIN, DAVID LEE           8066 FM 1001      NaN   \n",
       "...           ...                   ...                    ...      ...   \n",
       "569544 2003-01-20          ORTEGA, JUAN            128 JUAN CT      NaN   \n",
       "569545 2003-01-20        BARR, SYLVIA M      1015 RIVERVIEW DR      NaN   \n",
       "569546 2003-01-20  MALFAVON, SALVADOR H       1237 E CENTER ST      NaN   \n",
       "569547 2003-01-20     ARANDA, JOSE A SR        1108 IRELAND ST      NaN   \n",
       "569548 2003-01-20       ORTIZ, CARLOS M           480 BLAND DR      NaN   \n",
       "\n",
       "                       MAILCITYSTATE MAILCOUNTYCODE    MAILCOUNTY MAILZIP  \\\n",
       "47025         FRANKLIN TX 77856-5367           0395     ROBERTSON   77856   \n",
       "47026      SAN ANTONIO TX 78250-4478           0029         BEXAR   78250   \n",
       "47027         PASADENA TX 77502-2218           0201        HARRIS   77502   \n",
       "47028   MOUNT PLEASANT TX 75455-3944           0449         TITUS   75455   \n",
       "47029        COOKVILLE TX 75558-3064           0449         TITUS   75558   \n",
       "...                              ...            ...           ...     ...   \n",
       "569544     HUDSON OAKS TX 76087-8337           0367        PARKER   76087   \n",
       "569545        FAIRMONT WV 26554-8309           0999  OUT OF STATE   26554   \n",
       "569546       KINGSPORT TN 37660-4945           0999  OUT OF STATE   37660   \n",
       "569547   WICHITA FALLS TX 76301-7837           0485       WICHITA   76301   \n",
       "569548     BRIDGE CITY TX 77611-4614           0361        ORANGE   77611   \n",
       "\n",
       "         TELEPHONE LICSUBTYPE CEFLAG  \n",
       "47025   9798284713         AE      N  \n",
       "47026   2104887491         AE      N  \n",
       "47027   7133824802         AE      N  \n",
       "47028   9035634950         AE      N  \n",
       "47029   9039462547         AE      N  \n",
       "...            ...        ...    ...  \n",
       "569544  8173746117         SA      N  \n",
       "569545  3047779007         SA      N  \n",
       "569546  4237656317         SA      N  \n",
       "569547  9408674318         SA      N  \n",
       "569548  4093133718         SA      N  \n",
       "\n",
       "[171838 rows x 19 columns]"
      ]
     },
     "execution_count": 13,
     "metadata": {},
     "output_type": "execute_result"
    }
   ],
   "source": [
    "df[df['LICTYPE'].str.contains(\"Electrician\").fillna(False)]"
   ]
  },
  {
   "cell_type": "markdown",
   "metadata": {},
   "source": [
    "## 10. What's the most popular kind of electrician?"
   ]
  },
  {
   "cell_type": "code",
   "execution_count": 14,
   "metadata": {},
   "outputs": [
    {
     "data": {
      "text/plain": [
       "AE                                     110593\n",
       "JE                                      38170\n",
       "ME                                      16810\n",
       "SA                                       3994\n",
       "MN                                       1184\n",
       "MS                                        542\n",
       "JS                                        391\n",
       "Electrician                               109\n",
       "Electrician Apprenticeship Programs        45\n",
       "Name: LICSUBTYPE, dtype: int64"
      ]
     },
     "execution_count": 14,
     "metadata": {},
     "output_type": "execute_result"
    }
   ],
   "source": [
    "df[df['LICTYPE'].str.contains('Electrician').fillna(False)].LICSUBTYPE.value_counts()"
   ]
  },
  {
   "cell_type": "markdown",
   "metadata": {},
   "source": [
    "## 11. Graph it, with the largest bar on top."
   ]
  },
  {
   "cell_type": "code",
   "execution_count": 15,
   "metadata": {},
   "outputs": [
    {
     "data": {
      "text/plain": [
       "<AxesSubplot:>"
      ]
     },
     "execution_count": 15,
     "metadata": {},
     "output_type": "execute_result"
    },
    {
     "data": {
      "image/png": "[encoded data removed]",
      "text/plain": [
       "<Figure size 432x288 with 1 Axes>"
      ]
     },
     "metadata": {
      "needs_background": "light"
     },
     "output_type": "display_data"
    }
   ],
   "source": [
    "df[df['LICTYPE'].str.contains('Electrician').fillna(False)].LICSUBTYPE.value_counts(ascending=True).plot(kind='barh')"
   ]
  },
  {
   "cell_type": "markdown",
   "metadata": {},
   "source": [
    "## 12. How many sign electricians are there?\n",
    "\n",
    "There are a few ways to do this one."
   ]
  },
  {
   "cell_type": "code",
   "execution_count": 16,
   "metadata": {},
   "outputs": [
    {
     "data": {
      "text/plain": [
       "False    167844\n",
       "True       3994\n",
       "Name: LICSUBTYPE, dtype: int64"
      ]
     },
     "execution_count": 16,
     "metadata": {},
     "output_type": "execute_result"
    }
   ],
   "source": [
    "df[df['LICTYPE'].str.contains('Electrician')\\\n",
    "   .fillna(False)].LICSUBTYPE.str.contains('SA').value_counts()"
   ]
  },
  {
   "cell_type": "markdown",
   "metadata": {},
   "source": [
    "# PART THREE: LOOKING AT LAST NAMES"
   ]
  },
  {
   "cell_type": "markdown",
   "metadata": {},
   "source": [
    "## 13. Extract every owner's last name\n",
    "\n",
    "You want everything before the comma. We've done this before (in a few different ways!).\n",
    "\n",
    "* **Hint:** If you get an error about missing or `NaN` data, you might use `.fillna('')` to replace every empty owner name with an empty string. This might not happen to you, though, depending on how you do it!\n",
    "\n",
    "* **Hint:** You probably want to do `expand=False` on your extraction to make sure it comes out as a series instead of a dataframe."
   ]
  },
  {
   "cell_type": "code",
   "execution_count": 17,
   "metadata": {},
   "outputs": [
    {
     "data": {
      "text/html": [
       "<div>\n",
       "<style scoped>\n",
       "    .dataframe tbody tr th:only-of-type {\n",
       "        vertical-align: middle;\n",
       "    }\n",
       "\n",
       "    .dataframe tbody tr th {\n",
       "        vertical-align: top;\n",
       "    }\n",
       "\n",
       "    .dataframe thead th {\n",
       "        text-align: right;\n",
       "    }\n",
       "</style>\n",
       "<table border=\"1\" class=\"dataframe\">\n",
       "  <thead>\n",
       "    <tr style=\"text-align: right;\">\n",
       "      <th></th>\n",
       "      <th>LICTYPE</th>\n",
       "      <th>LICNUMBER</th>\n",
       "      <th>BIZCOUNTY</th>\n",
       "      <th>BIZNAME</th>\n",
       "      <th>BIZLINE1</th>\n",
       "      <th>BIZLINE2</th>\n",
       "      <th>BIZCITYSTATE</th>\n",
       "      <th>BIZTELEPHONE</th>\n",
       "      <th>EXPIRATION</th>\n",
       "      <th>OWNER</th>\n",
       "      <th>MAILLINE1</th>\n",
       "      <th>MAILINE2</th>\n",
       "      <th>MAILCITYSTATE</th>\n",
       "      <th>MAILCOUNTYCODE</th>\n",
       "      <th>MAILCOUNTY</th>\n",
       "      <th>MAILZIP</th>\n",
       "      <th>TELEPHONE</th>\n",
       "      <th>LICSUBTYPE</th>\n",
       "      <th>CEFLAG</th>\n",
       "    </tr>\n",
       "  </thead>\n",
       "  <tbody>\n",
       "    <tr>\n",
       "      <th>0</th>\n",
       "      <td>Associate Auctioneer</td>\n",
       "      <td>7326</td>\n",
       "      <td>ANGELINA</td>\n",
       "      <td>RISINGER, JIM MARVIN</td>\n",
       "      <td>NaN</td>\n",
       "      <td>NaN</td>\n",
       "      <td>NaN</td>\n",
       "      <td>NaN</td>\n",
       "      <td>2008-10-20</td>\n",
       "      <td>RISINGER, JIM MARVIN</td>\n",
       "      <td>7668 S US HWY 59</td>\n",
       "      <td>NaN</td>\n",
       "      <td>NACOGDOCHES TX 75964</td>\n",
       "      <td>0347</td>\n",
       "      <td>NACOGDOCHES</td>\n",
       "      <td>75964</td>\n",
       "      <td>9363665745</td>\n",
       "      <td>NaN</td>\n",
       "      <td>N</td>\n",
       "    </tr>\n",
       "    <tr>\n",
       "      <th>1</th>\n",
       "      <td>Associate Auctioneer</td>\n",
       "      <td>7962</td>\n",
       "      <td>UPSHUR</td>\n",
       "      <td>WILLIAMS, JON ANDRE</td>\n",
       "      <td>NaN</td>\n",
       "      <td>NaN</td>\n",
       "      <td>NaN</td>\n",
       "      <td>NaN</td>\n",
       "      <td>2012-02-09</td>\n",
       "      <td>WILLIAMS, JON ANDRE</td>\n",
       "      <td>228 FM 1252</td>\n",
       "      <td>NaN</td>\n",
       "      <td>KILGORE TX 75662</td>\n",
       "      <td>0183</td>\n",
       "      <td>GREGG</td>\n",
       "      <td>75662</td>\n",
       "      <td>9039187899</td>\n",
       "      <td>NaN</td>\n",
       "      <td>N</td>\n",
       "    </tr>\n",
       "    <tr>\n",
       "      <th>2</th>\n",
       "      <td>Associate Auctioneer</td>\n",
       "      <td>8406</td>\n",
       "      <td>WILSON</td>\n",
       "      <td>GUEVARA, JUAN ANTONIO</td>\n",
       "      <td>NaN</td>\n",
       "      <td>NaN</td>\n",
       "      <td>NaN</td>\n",
       "      <td>NaN</td>\n",
       "      <td>2009-02-06</td>\n",
       "      <td>GUEVARA, JUAN ANTONIO</td>\n",
       "      <td>6909 HWY 181</td>\n",
       "      <td>NaN</td>\n",
       "      <td>POTH TX 78147</td>\n",
       "      <td>0493</td>\n",
       "      <td>WILSON</td>\n",
       "      <td>78147</td>\n",
       "      <td>NaN</td>\n",
       "      <td>NaN</td>\n",
       "      <td>N</td>\n",
       "    </tr>\n",
       "    <tr>\n",
       "      <th>3</th>\n",
       "      <td>Associate Auctioneer</td>\n",
       "      <td>10543</td>\n",
       "      <td>HARRIS</td>\n",
       "      <td>BOWERS, JAMES BRISCOE II</td>\n",
       "      <td>NaN</td>\n",
       "      <td>NaN</td>\n",
       "      <td>NaN</td>\n",
       "      <td>NaN</td>\n",
       "      <td>2011-04-20</td>\n",
       "      <td>BOWERS, JAMES BRISCOE II</td>\n",
       "      <td>6767 NORTH FWY</td>\n",
       "      <td>NaN</td>\n",
       "      <td>HOUSTON TX 77076-2027</td>\n",
       "      <td>0201</td>\n",
       "      <td>HARRIS</td>\n",
       "      <td>77076</td>\n",
       "      <td>7136445566</td>\n",
       "      <td>NaN</td>\n",
       "      <td>N</td>\n",
       "    </tr>\n",
       "    <tr>\n",
       "      <th>4</th>\n",
       "      <td>Associate Auctioneer</td>\n",
       "      <td>10642</td>\n",
       "      <td>BELL</td>\n",
       "      <td>DEMSKY, JOHN EDWARD</td>\n",
       "      <td>NaN</td>\n",
       "      <td>NaN</td>\n",
       "      <td>NaN</td>\n",
       "      <td>NaN</td>\n",
       "      <td>2002-02-05</td>\n",
       "      <td>DEMSKY, JOHN EDWARD</td>\n",
       "      <td>130 E CLARK ST</td>\n",
       "      <td>NaN</td>\n",
       "      <td>BARTLETT TX 76511</td>\n",
       "      <td>0027</td>\n",
       "      <td>BELL</td>\n",
       "      <td>76511</td>\n",
       "      <td>2549852228</td>\n",
       "      <td>NaN</td>\n",
       "      <td>N</td>\n",
       "    </tr>\n",
       "  </tbody>\n",
       "</table>\n",
       "</div>"
      ],
      "text/plain": [
       "                LICTYPE LICNUMBER BIZCOUNTY                   BIZNAME  \\\n",
       "0  Associate Auctioneer      7326  ANGELINA      RISINGER, JIM MARVIN   \n",
       "1  Associate Auctioneer      7962    UPSHUR       WILLIAMS, JON ANDRE   \n",
       "2  Associate Auctioneer      8406    WILSON     GUEVARA, JUAN ANTONIO   \n",
       "3  Associate Auctioneer     10543    HARRIS  BOWERS, JAMES BRISCOE II   \n",
       "4  Associate Auctioneer     10642      BELL       DEMSKY, JOHN EDWARD   \n",
       "\n",
       "   BIZLINE1  BIZLINE2  BIZCITYSTATE  BIZTELEPHONE EXPIRATION  \\\n",
       "0       NaN       NaN           NaN           NaN 2008-10-20   \n",
       "1       NaN       NaN           NaN           NaN 2012-02-09   \n",
       "2       NaN       NaN           NaN           NaN 2009-02-06   \n",
       "3       NaN       NaN           NaN           NaN 2011-04-20   \n",
       "4       NaN       NaN           NaN           NaN 2002-02-05   \n",
       "\n",
       "                      OWNER         MAILLINE1 MAILINE2          MAILCITYSTATE  \\\n",
       "0      RISINGER, JIM MARVIN  7668 S US HWY 59      NaN   NACOGDOCHES TX 75964   \n",
       "1       WILLIAMS, JON ANDRE       228 FM 1252      NaN       KILGORE TX 75662   \n",
       "2     GUEVARA, JUAN ANTONIO      6909 HWY 181      NaN          POTH TX 78147   \n",
       "3  BOWERS, JAMES BRISCOE II    6767 NORTH FWY      NaN  HOUSTON TX 77076-2027   \n",
       "4       DEMSKY, JOHN EDWARD    130 E CLARK ST      NaN      BARTLETT TX 76511   \n",
       "\n",
       "  MAILCOUNTYCODE   MAILCOUNTY MAILZIP   TELEPHONE LICSUBTYPE CEFLAG  \n",
       "0           0347  NACOGDOCHES   75964  9363665745        NaN      N  \n",
       "1           0183        GREGG   75662  9039187899        NaN      N  \n",
       "2           0493       WILSON   78147         NaN        NaN      N  \n",
       "3           0201       HARRIS   77076  7136445566        NaN      N  \n",
       "4           0027         BELL   76511  2549852228        NaN      N  "
      ]
     },
     "execution_count": 17,
     "metadata": {},
     "output_type": "execute_result"
    }
   ],
   "source": [
    "df.head()"
   ]
  },
  {
   "cell_type": "code",
   "execution_count": 18,
   "metadata": {},
   "outputs": [
    {
     "data": {
      "text/html": [
       "<div>\n",
       "<style scoped>\n",
       "    .dataframe tbody tr th:only-of-type {\n",
       "        vertical-align: middle;\n",
       "    }\n",
       "\n",
       "    .dataframe tbody tr th {\n",
       "        vertical-align: top;\n",
       "    }\n",
       "\n",
       "    .dataframe thead th {\n",
       "        text-align: right;\n",
       "    }\n",
       "</style>\n",
       "<table border=\"1\" class=\"dataframe\">\n",
       "  <thead>\n",
       "    <tr style=\"text-align: right;\">\n",
       "      <th></th>\n",
       "      <th>0</th>\n",
       "    </tr>\n",
       "  </thead>\n",
       "  <tbody>\n",
       "    <tr>\n",
       "      <th>0</th>\n",
       "      <td>RISINGER</td>\n",
       "    </tr>\n",
       "    <tr>\n",
       "      <th>1</th>\n",
       "      <td>WILLIAMS</td>\n",
       "    </tr>\n",
       "    <tr>\n",
       "      <th>2</th>\n",
       "      <td>GUEVARA</td>\n",
       "    </tr>\n",
       "    <tr>\n",
       "      <th>3</th>\n",
       "      <td>BOWERS</td>\n",
       "    </tr>\n",
       "    <tr>\n",
       "      <th>4</th>\n",
       "      <td>DEMSKY</td>\n",
       "    </tr>\n",
       "    <tr>\n",
       "      <th>...</th>\n",
       "      <td>...</td>\n",
       "    </tr>\n",
       "    <tr>\n",
       "      <th>597811</th>\n",
       "      <td>ABEL</td>\n",
       "    </tr>\n",
       "    <tr>\n",
       "      <th>597812</th>\n",
       "      <td>GRAY</td>\n",
       "    </tr>\n",
       "    <tr>\n",
       "      <th>597813</th>\n",
       "      <td>MAYER</td>\n",
       "    </tr>\n",
       "    <tr>\n",
       "      <th>597814</th>\n",
       "      <td>FRIESEN</td>\n",
       "    </tr>\n",
       "    <tr>\n",
       "      <th>597815</th>\n",
       "      <td>BAUER</td>\n",
       "    </tr>\n",
       "  </tbody>\n",
       "</table>\n",
       "<p>597816 rows × 1 columns</p>\n",
       "</div>"
      ],
      "text/plain": [
       "               0\n",
       "0       RISINGER\n",
       "1       WILLIAMS\n",
       "2        GUEVARA\n",
       "3         BOWERS\n",
       "4         DEMSKY\n",
       "...          ...\n",
       "597811      ABEL\n",
       "597812      GRAY\n",
       "597813     MAYER\n",
       "597814   FRIESEN\n",
       "597815     BAUER\n",
       "\n",
       "[597816 rows x 1 columns]"
      ]
     },
     "execution_count": 18,
     "metadata": {},
     "output_type": "execute_result"
    }
   ],
   "source": [
    "df['OWNER'].str.extract(r'(^.*),')"
   ]
  },
  {
   "cell_type": "markdown",
   "metadata": {},
   "source": [
    "## 14. Save the last name into a new column\n",
    "\n",
    "Then check to make sure it exists, and you successfully saved it into the dataframe."
   ]
  },
  {
   "cell_type": "code",
   "execution_count": 19,
   "metadata": {},
   "outputs": [],
   "source": [
    "df['LASTNAME'] = df['OWNER'].str.extract(r'(^.*),')"
   ]
  },
  {
   "cell_type": "code",
   "execution_count": 20,
   "metadata": {},
   "outputs": [
    {
     "data": {
      "text/html": [
       "<div>\n",
       "<style scoped>\n",
       "    .dataframe tbody tr th:only-of-type {\n",
       "        vertical-align: middle;\n",
       "    }\n",
       "\n",
       "    .dataframe tbody tr th {\n",
       "        vertical-align: top;\n",
       "    }\n",
       "\n",
       "    .dataframe thead th {\n",
       "        text-align: right;\n",
       "    }\n",
       "</style>\n",
       "<table border=\"1\" class=\"dataframe\">\n",
       "  <thead>\n",
       "    <tr style=\"text-align: right;\">\n",
       "      <th></th>\n",
       "      <th>LICTYPE</th>\n",
       "      <th>LICNUMBER</th>\n",
       "      <th>BIZCOUNTY</th>\n",
       "      <th>BIZNAME</th>\n",
       "      <th>BIZLINE1</th>\n",
       "      <th>BIZLINE2</th>\n",
       "      <th>BIZCITYSTATE</th>\n",
       "      <th>BIZTELEPHONE</th>\n",
       "      <th>EXPIRATION</th>\n",
       "      <th>OWNER</th>\n",
       "      <th>MAILLINE1</th>\n",
       "      <th>MAILINE2</th>\n",
       "      <th>MAILCITYSTATE</th>\n",
       "      <th>MAILCOUNTYCODE</th>\n",
       "      <th>MAILCOUNTY</th>\n",
       "      <th>MAILZIP</th>\n",
       "      <th>TELEPHONE</th>\n",
       "      <th>LICSUBTYPE</th>\n",
       "      <th>CEFLAG</th>\n",
       "      <th>LASTNAME</th>\n",
       "    </tr>\n",
       "  </thead>\n",
       "  <tbody>\n",
       "    <tr>\n",
       "      <th>0</th>\n",
       "      <td>Associate Auctioneer</td>\n",
       "      <td>7326</td>\n",
       "      <td>ANGELINA</td>\n",
       "      <td>RISINGER, JIM MARVIN</td>\n",
       "      <td>NaN</td>\n",
       "      <td>NaN</td>\n",
       "      <td>NaN</td>\n",
       "      <td>NaN</td>\n",
       "      <td>2008-10-20</td>\n",
       "      <td>RISINGER, JIM MARVIN</td>\n",
       "      <td>7668 S US HWY 59</td>\n",
       "      <td>NaN</td>\n",
       "      <td>NACOGDOCHES TX 75964</td>\n",
       "      <td>0347</td>\n",
       "      <td>NACOGDOCHES</td>\n",
       "      <td>75964</td>\n",
       "      <td>9363665745</td>\n",
       "      <td>NaN</td>\n",
       "      <td>N</td>\n",
       "      <td>RISINGER</td>\n",
       "    </tr>\n",
       "    <tr>\n",
       "      <th>1</th>\n",
       "      <td>Associate Auctioneer</td>\n",
       "      <td>7962</td>\n",
       "      <td>UPSHUR</td>\n",
       "      <td>WILLIAMS, JON ANDRE</td>\n",
       "      <td>NaN</td>\n",
       "      <td>NaN</td>\n",
       "      <td>NaN</td>\n",
       "      <td>NaN</td>\n",
       "      <td>2012-02-09</td>\n",
       "      <td>WILLIAMS, JON ANDRE</td>\n",
       "      <td>228 FM 1252</td>\n",
       "      <td>NaN</td>\n",
       "      <td>KILGORE TX 75662</td>\n",
       "      <td>0183</td>\n",
       "      <td>GREGG</td>\n",
       "      <td>75662</td>\n",
       "      <td>9039187899</td>\n",
       "      <td>NaN</td>\n",
       "      <td>N</td>\n",
       "      <td>WILLIAMS</td>\n",
       "    </tr>\n",
       "    <tr>\n",
       "      <th>2</th>\n",
       "      <td>Associate Auctioneer</td>\n",
       "      <td>8406</td>\n",
       "      <td>WILSON</td>\n",
       "      <td>GUEVARA, JUAN ANTONIO</td>\n",
       "      <td>NaN</td>\n",
       "      <td>NaN</td>\n",
       "      <td>NaN</td>\n",
       "      <td>NaN</td>\n",
       "      <td>2009-02-06</td>\n",
       "      <td>GUEVARA, JUAN ANTONIO</td>\n",
       "      <td>6909 HWY 181</td>\n",
       "      <td>NaN</td>\n",
       "      <td>POTH TX 78147</td>\n",
       "      <td>0493</td>\n",
       "      <td>WILSON</td>\n",
       "      <td>78147</td>\n",
       "      <td>NaN</td>\n",
       "      <td>NaN</td>\n",
       "      <td>N</td>\n",
       "      <td>GUEVARA</td>\n",
       "    </tr>\n",
       "    <tr>\n",
       "      <th>3</th>\n",
       "      <td>Associate Auctioneer</td>\n",
       "      <td>10543</td>\n",
       "      <td>HARRIS</td>\n",
       "      <td>BOWERS, JAMES BRISCOE II</td>\n",
       "      <td>NaN</td>\n",
       "      <td>NaN</td>\n",
       "      <td>NaN</td>\n",
       "      <td>NaN</td>\n",
       "      <td>2011-04-20</td>\n",
       "      <td>BOWERS, JAMES BRISCOE II</td>\n",
       "      <td>6767 NORTH FWY</td>\n",
       "      <td>NaN</td>\n",
       "      <td>HOUSTON TX 77076-2027</td>\n",
       "      <td>0201</td>\n",
       "      <td>HARRIS</td>\n",
       "      <td>77076</td>\n",
       "      <td>7136445566</td>\n",
       "      <td>NaN</td>\n",
       "      <td>N</td>\n",
       "      <td>BOWERS</td>\n",
       "    </tr>\n",
       "    <tr>\n",
       "      <th>4</th>\n",
       "      <td>Associate Auctioneer</td>\n",
       "      <td>10642</td>\n",
       "      <td>BELL</td>\n",
       "      <td>DEMSKY, JOHN EDWARD</td>\n",
       "      <td>NaN</td>\n",
       "      <td>NaN</td>\n",
       "      <td>NaN</td>\n",
       "      <td>NaN</td>\n",
       "      <td>2002-02-05</td>\n",
       "      <td>DEMSKY, JOHN EDWARD</td>\n",
       "      <td>130 E CLARK ST</td>\n",
       "      <td>NaN</td>\n",
       "      <td>BARTLETT TX 76511</td>\n",
       "      <td>0027</td>\n",
       "      <td>BELL</td>\n",
       "      <td>76511</td>\n",
       "      <td>2549852228</td>\n",
       "      <td>NaN</td>\n",
       "      <td>N</td>\n",
       "      <td>DEMSKY</td>\n",
       "    </tr>\n",
       "  </tbody>\n",
       "</table>\n",
       "</div>"
      ],
      "text/plain": [
       "                LICTYPE LICNUMBER BIZCOUNTY                   BIZNAME  \\\n",
       "0  Associate Auctioneer      7326  ANGELINA      RISINGER, JIM MARVIN   \n",
       "1  Associate Auctioneer      7962    UPSHUR       WILLIAMS, JON ANDRE   \n",
       "2  Associate Auctioneer      8406    WILSON     GUEVARA, JUAN ANTONIO   \n",
       "3  Associate Auctioneer     10543    HARRIS  BOWERS, JAMES BRISCOE II   \n",
       "4  Associate Auctioneer     10642      BELL       DEMSKY, JOHN EDWARD   \n",
       "\n",
       "   BIZLINE1  BIZLINE2  BIZCITYSTATE  BIZTELEPHONE EXPIRATION  \\\n",
       "0       NaN       NaN           NaN           NaN 2008-10-20   \n",
       "1       NaN       NaN           NaN           NaN 2012-02-09   \n",
       "2       NaN       NaN           NaN           NaN 2009-02-06   \n",
       "3       NaN       NaN           NaN           NaN 2011-04-20   \n",
       "4       NaN       NaN           NaN           NaN 2002-02-05   \n",
       "\n",
       "                      OWNER         MAILLINE1 MAILINE2          MAILCITYSTATE  \\\n",
       "0      RISINGER, JIM MARVIN  7668 S US HWY 59      NaN   NACOGDOCHES TX 75964   \n",
       "1       WILLIAMS, JON ANDRE       228 FM 1252      NaN       KILGORE TX 75662   \n",
       "2     GUEVARA, JUAN ANTONIO      6909 HWY 181      NaN          POTH TX 78147   \n",
       "3  BOWERS, JAMES BRISCOE II    6767 NORTH FWY      NaN  HOUSTON TX 77076-2027   \n",
       "4       DEMSKY, JOHN EDWARD    130 E CLARK ST      NaN      BARTLETT TX 76511   \n",
       "\n",
       "  MAILCOUNTYCODE   MAILCOUNTY MAILZIP   TELEPHONE LICSUBTYPE CEFLAG  LASTNAME  \n",
       "0           0347  NACOGDOCHES   75964  9363665745        NaN      N  RISINGER  \n",
       "1           0183        GREGG   75662  9039187899        NaN      N  WILLIAMS  \n",
       "2           0493       WILSON   78147         NaN        NaN      N   GUEVARA  \n",
       "3           0201       HARRIS   77076  7136445566        NaN      N    BOWERS  \n",
       "4           0027         BELL   76511  2549852228        NaN      N    DEMSKY  "
      ]
     },
     "execution_count": 20,
     "metadata": {},
     "output_type": "execute_result"
    }
   ],
   "source": [
    "df.head()"
   ]
  },
  {
   "cell_type": "markdown",
   "metadata": {},
   "source": [
    "# 15. What are the ten most popular last names?"
   ]
  },
  {
   "cell_type": "code",
   "execution_count": 21,
   "metadata": {},
   "outputs": [
    {
     "data": {
      "text/plain": [
       "NGUYEN       22283\n",
       "TRAN          8135\n",
       "LE            5605\n",
       "GARCIA        5574\n",
       "MARTINEZ      4701\n",
       "RODRIGUEZ     4625\n",
       "HERNANDEZ     4389\n",
       "PHAM          3996\n",
       "GONZALEZ      3634\n",
       "SMITH         3208\n",
       "Name: LASTNAME, dtype: int64"
      ]
     },
     "execution_count": 21,
     "metadata": {},
     "output_type": "execute_result"
    }
   ],
   "source": [
    "df.LASTNAME.value_counts().head(10)"
   ]
  },
  {
   "cell_type": "markdown",
   "metadata": {},
   "source": [
    "## 16. What are the most popular licenses for people with the last name Nguyen? Tran? Le?\n",
    "\n",
    "Those are the top 3 last names in Vietnam."
   ]
  },
  {
   "cell_type": "code",
   "execution_count": 22,
   "metadata": {},
   "outputs": [
    {
     "data": {
      "text/plain": [
       "Cosmetology Manicurist     12855\n",
       "Cosmetology Operator        4039\n",
       "Cosmetology Esthetician     2881\n",
       "Cosmetologist               1874\n",
       "Apprentice Electrician       195\n",
       "Name: LICTYPE, dtype: int64"
      ]
     },
     "execution_count": 22,
     "metadata": {},
     "output_type": "execute_result"
    }
   ],
   "source": [
    "df[df['LASTNAME'] == 'NGUYEN']['LICTYPE'].value_counts().head()"
   ]
  },
  {
   "cell_type": "code",
   "execution_count": 23,
   "metadata": {},
   "outputs": [
    {
     "data": {
      "text/plain": [
       "Cosmetology Manicurist     4674\n",
       "Cosmetology Operator       1474\n",
       "Cosmetology Esthetician    1032\n",
       "Cosmetologist               712\n",
       "Apprentice Electrician       95\n",
       "Name: LICTYPE, dtype: int64"
      ]
     },
     "execution_count": 23,
     "metadata": {},
     "output_type": "execute_result"
    }
   ],
   "source": [
    "df[df['LASTNAME'] == 'TRAN']['LICTYPE'].value_counts().head()"
   ]
  },
  {
   "cell_type": "code",
   "execution_count": 24,
   "metadata": {},
   "outputs": [
    {
     "data": {
      "text/plain": [
       "Cosmetology Manicurist     3276\n",
       "Cosmetology Operator        953\n",
       "Cosmetology Esthetician     730\n",
       "Cosmetologist               497\n",
       "A/C Technician               43\n",
       "Name: LICTYPE, dtype: int64"
      ]
     },
     "execution_count": 24,
     "metadata": {},
     "output_type": "execute_result"
    }
   ],
   "source": [
    "df[df['LASTNAME'] == 'LE']['LICTYPE'].value_counts().head()"
   ]
  },
  {
   "cell_type": "markdown",
   "metadata": {},
   "source": [
    "The background of this [is interesting](https://www.npr.org/2019/05/19/724452398/how-vietnamese-americans-took-over-the-nails-business-a-documentary) and [tragic](https://www.nytimes.com/2015/05/10/nyregion/at-nail-salons-in-nyc-manicurists-are-underpaid-and-unprotected.html)."
   ]
  },
  {
   "cell_type": "markdown",
   "metadata": {},
   "source": [
    "## 17. Now do all of that in one line - most popular licenses for Nguyen, Tran and Le - without using `&`"
   ]
  },
  {
   "cell_type": "code",
   "execution_count": 25,
   "metadata": {},
   "outputs": [
    {
     "data": {
      "text/plain": [
       "Cosmetology Manicurist                      20805\n",
       "Cosmetology Operator                         6466\n",
       "Cosmetology Esthetician                      4643\n",
       "Cosmetologist                                3083\n",
       "Apprentice Electrician                        327\n",
       "A/C Technician                                281\n",
       "Journeyman Electrician                         91\n",
       "Cosmetology Operator Instructor                70\n",
       "Barber Manicurist                              37\n",
       "Master Electrician                             36\n",
       "Barber, Class A                                36\n",
       "Property Tax Appraiser                         21\n",
       "Apprentice Sign Electrician                    20\n",
       "Cosmetology Manicurist Instructor              12\n",
       "Used Auto Parts Recycler Employee              10\n",
       "Legal Service Contract Sales Rep               10\n",
       "Maintenance Electrician                         8\n",
       "Tow Truck Operator (Incident Management)        7\n",
       "Tow Truck Operator (Consent Tow)                7\n",
       "Master Sign Electrician                         6\n",
       "Property Tax Consultant                         5\n",
       "Journeyman Sign Electrician                     2\n",
       "Cosmetology Esthetic Instructor                 2\n",
       "Booting Operator                                2\n",
       "Dual Towing Operator(IM)/VSF Employee           2\n",
       "VSF Employee                                    1\n",
       "Appliance Installer                             1\n",
       "Cosmetology Hair Braider                        1\n",
       "Name: LICTYPE, dtype: int64"
      ]
     },
     "execution_count": 25,
     "metadata": {},
     "output_type": "execute_result"
    }
   ],
   "source": [
    "## Come back to this one.##\n",
    "\n",
    "df[df.LASTNAME.isin(['NGUYEN', 'TRAN', 'LE'])].LICTYPE.value_counts()\n",
    "\n",
    "##df.groupby('LASTNAME').LICTYPE.head(10)\n",
    "\n",
    "##df.groupby([df['LASTNAME'].sort_values()]['LICTYPE'])"
   ]
  },
  {
   "cell_type": "markdown",
   "metadata": {},
   "source": [
    "## 19. Most popular license for anyone with a last name that ENDS in `-ko`\n",
    "\n",
    "The answer is not `.str.contains('ko')`, but it isn't necessarily too different.\n",
    "\n",
    "* One way involves a `.str.` method that check if a string ends with something,\n",
    "* the other way involves a regular expression that has a \"end of the string\" marker (similar to how we've used `^` for the start of a string before)\n",
    "\n",
    "If you're thinking about the latter, I might take a look at [this page](http://www.rexegg.com/regex-quickstart.html) under \"Anchors and Boundaries\". "
   ]
  },
  {
   "cell_type": "code",
   "execution_count": 26,
   "metadata": {},
   "outputs": [
    {
     "data": {
      "text/plain": [
       "False    516035\n",
       "True        180\n",
       "Name: LASTNAME, dtype: int64"
      ]
     },
     "execution_count": 26,
     "metadata": {},
     "output_type": "execute_result"
    }
   ],
   "source": [
    "df['LASTNAME'].str.endswith(\"KO\").value_counts()"
   ]
  },
  {
   "cell_type": "markdown",
   "metadata": {},
   "source": [
    "## 20. Get that as a percentage"
   ]
  },
  {
   "cell_type": "code",
   "execution_count": 27,
   "metadata": {},
   "outputs": [
    {
     "data": {
      "text/plain": [
       "False    0.999651\n",
       "True     0.000349\n",
       "Name: LASTNAME, dtype: float64"
      ]
     },
     "execution_count": 27,
     "metadata": {},
     "output_type": "execute_result"
    }
   ],
   "source": [
    "df['LASTNAME'].str.endswith(\"KO\").value_counts(normalize=True)"
   ]
  },
  {
   "cell_type": "markdown",
   "metadata": {},
   "source": [
    "# PART FOUR: LOOKING AT FIRST NAMES"
   ]
  },
  {
   "cell_type": "markdown",
   "metadata": {},
   "source": [
    "## 21. Extract the owner's first name\n",
    "\n",
    "First, a little example of how regular expressions work with pandas."
   ]
  },
  {
   "cell_type": "code",
   "execution_count": 28,
   "metadata": {},
   "outputs": [
    {
     "data": {
      "text/html": [
       "<div>\n",
       "<style scoped>\n",
       "    .dataframe tbody tr th:only-of-type {\n",
       "        vertical-align: middle;\n",
       "    }\n",
       "\n",
       "    .dataframe tbody tr th {\n",
       "        vertical-align: top;\n",
       "    }\n",
       "\n",
       "    .dataframe thead th {\n",
       "        text-align: right;\n",
       "    }\n",
       "</style>\n",
       "<table border=\"1\" class=\"dataframe\">\n",
       "  <thead>\n",
       "    <tr style=\"text-align: right;\">\n",
       "      <th></th>\n",
       "      <th>name</th>\n",
       "      <th>sentence</th>\n",
       "    </tr>\n",
       "  </thead>\n",
       "  <tbody>\n",
       "    <tr>\n",
       "      <th>0</th>\n",
       "      <td>Mary</td>\n",
       "      <td>I am 90 years old</td>\n",
       "    </tr>\n",
       "    <tr>\n",
       "      <th>1</th>\n",
       "      <td>Jack</td>\n",
       "      <td>I am 4 years old</td>\n",
       "    </tr>\n",
       "    <tr>\n",
       "      <th>2</th>\n",
       "      <td>Anne</td>\n",
       "      <td>I am 27 years old</td>\n",
       "    </tr>\n",
       "    <tr>\n",
       "      <th>3</th>\n",
       "      <td>Joel</td>\n",
       "      <td>I am 13 years old</td>\n",
       "    </tr>\n",
       "  </tbody>\n",
       "</table>\n",
       "</div>"
      ],
      "text/plain": [
       "   name           sentence\n",
       "0  Mary  I am 90 years old\n",
       "1  Jack   I am 4 years old\n",
       "2  Anne  I am 27 years old\n",
       "3  Joel  I am 13 years old"
      ]
     },
     "execution_count": 28,
     "metadata": {},
     "output_type": "execute_result"
    }
   ],
   "source": [
    "# Build a dataframe\n",
    "sample_df = pd.DataFrame([\n",
    "    { 'name': 'Mary', 'sentence': \"I am 90 years old\" },\n",
    "    { 'name': 'Jack', 'sentence': \"I am 4 years old\" },\n",
    "    { 'name': 'Anne', 'sentence': \"I am 27 years old\" },\n",
    "    { 'name': 'Joel', 'sentence': \"I am 13 years old\" },\n",
    "])\n",
    "# Look at the dataframe\n",
    "sample_df"
   ]
  },
  {
   "cell_type": "code",
   "execution_count": 29,
   "metadata": {},
   "outputs": [
    {
     "data": {
      "text/plain": [
       "0    90\n",
       "1     4\n",
       "2    27\n",
       "3    13\n",
       "Name: sentence, dtype: object"
      ]
     },
     "execution_count": 29,
     "metadata": {},
     "output_type": "execute_result"
    }
   ],
   "source": [
    "# Given the sentence, \"I am X years old\", extract digits from the middle using ()\n",
    "# Anything you put in () will be saved as an output.\n",
    "# If you do expand=True it makes you a dataframe, but we don't want that.\n",
    "sample_df['sentence'].str.extract(\"I am (\\d+) years old\", expand=False)"
   ]
  },
  {
   "cell_type": "code",
   "execution_count": 30,
   "metadata": {},
   "outputs": [
    {
     "data": {
      "text/html": [
       "<div>\n",
       "<style scoped>\n",
       "    .dataframe tbody tr th:only-of-type {\n",
       "        vertical-align: middle;\n",
       "    }\n",
       "\n",
       "    .dataframe tbody tr th {\n",
       "        vertical-align: top;\n",
       "    }\n",
       "\n",
       "    .dataframe thead th {\n",
       "        text-align: right;\n",
       "    }\n",
       "</style>\n",
       "<table border=\"1\" class=\"dataframe\">\n",
       "  <thead>\n",
       "    <tr style=\"text-align: right;\">\n",
       "      <th></th>\n",
       "      <th>name</th>\n",
       "      <th>sentence</th>\n",
       "      <th>age</th>\n",
       "    </tr>\n",
       "  </thead>\n",
       "  <tbody>\n",
       "    <tr>\n",
       "      <th>0</th>\n",
       "      <td>Mary</td>\n",
       "      <td>I am 90 years old</td>\n",
       "      <td>90</td>\n",
       "    </tr>\n",
       "    <tr>\n",
       "      <th>1</th>\n",
       "      <td>Jack</td>\n",
       "      <td>I am 4 years old</td>\n",
       "      <td>4</td>\n",
       "    </tr>\n",
       "    <tr>\n",
       "      <th>2</th>\n",
       "      <td>Anne</td>\n",
       "      <td>I am 27 years old</td>\n",
       "      <td>27</td>\n",
       "    </tr>\n",
       "    <tr>\n",
       "      <th>3</th>\n",
       "      <td>Joel</td>\n",
       "      <td>I am 13 years old</td>\n",
       "      <td>13</td>\n",
       "    </tr>\n",
       "  </tbody>\n",
       "</table>\n",
       "</div>"
      ],
      "text/plain": [
       "   name           sentence age\n",
       "0  Mary  I am 90 years old  90\n",
       "1  Jack   I am 4 years old   4\n",
       "2  Anne  I am 27 years old  27\n",
       "3  Joel  I am 13 years old  13"
      ]
     },
     "execution_count": 30,
     "metadata": {},
     "output_type": "execute_result"
    }
   ],
   "source": [
    "# Save it into a new column\n",
    "sample_df['age'] = sample_df['sentence'].str.extract(\"I am (\\d+) years old\", expand=False)\n",
    "sample_df.head()"
   ]
  },
  {
   "cell_type": "markdown",
   "metadata": {},
   "source": [
    "**Now let's think about how we're going to extract the first names.** Begin by looking at a few full names."
   ]
  },
  {
   "cell_type": "code",
   "execution_count": 31,
   "metadata": {},
   "outputs": [
    {
     "data": {
      "text/plain": [
       "0        RISINGER, JIM MARVIN\n",
       "1         WILLIAMS, JON ANDRE\n",
       "2       GUEVARA, JUAN ANTONIO\n",
       "3    BOWERS, JAMES BRISCOE II\n",
       "4         DEMSKY, JOHN EDWARD\n",
       "5           THOMPSON, RANDY D\n",
       "6          TUCKER, MONTE EARL\n",
       "7        COOPER, THOMAS JAMES\n",
       "8     BLANKENSHIP, KERRY NEIL\n",
       "9      DAWES, NICHOLAS MORGAN\n",
       "Name: OWNER, dtype: object"
      ]
     },
     "execution_count": 31,
     "metadata": {},
     "output_type": "execute_result"
    }
   ],
   "source": [
    "df['OWNER'].head(10)"
   ]
  },
  {
   "cell_type": "markdown",
   "metadata": {},
   "source": [
    "What can you use to find the first name? It helps to say \"this is to the left and this is to the right, and I'm going to take anything in the middle.\"\n",
    "\n",
    "Once you figure out how to extract it, you can do a `.head(10)` to just look at the first few."
   ]
  },
  {
   "cell_type": "code",
   "execution_count": 32,
   "metadata": {},
   "outputs": [
    {
     "data": {
      "text/plain": [
       "0               JIM\n",
       "1               JON\n",
       "2              JUAN\n",
       "3             JAMES\n",
       "4              JOHN\n",
       "            ...    \n",
       "597811       JUSTIN\n",
       "597812      MATTHEW\n",
       "597813        DAVID\n",
       "597814    FRANCISCO\n",
       "597815        DAVID\n",
       "Name: OWNER, Length: 597816, dtype: object"
      ]
     },
     "execution_count": 32,
     "metadata": {},
     "output_type": "execute_result"
    }
   ],
   "source": [
    "#df['OWNER'].str.extract(r\", (\\w*) \", expand=False)\n",
    "\n",
    "df['OWNER'].str.extract(r\"^.*,\\s(\\w*)\\s\", expand=False)"
   ]
  },
  {
   "cell_type": "markdown",
   "metadata": {},
   "source": [
    "## 22. Saving the owner's first name\n",
    "\n",
    "Save the name to a new column, `FIRSTNAME`."
   ]
  },
  {
   "cell_type": "code",
   "execution_count": 33,
   "metadata": {},
   "outputs": [],
   "source": [
    "df['FIRSTNAME'] = df['OWNER'].str.extract(r\"^.*,\\s(.*)\\s\", expand=False)"
   ]
  },
  {
   "cell_type": "markdown",
   "metadata": {},
   "source": [
    "# 23. Examine everyone without a first name\n",
    "\n",
    "I purposefully didn't do a nicer regex in order to have some screwed-up results. **How many people are there without an entry in the first name column?**\n",
    "\n",
    "Your numbers might be different than mine."
   ]
  },
  {
   "cell_type": "code",
   "execution_count": 34,
   "metadata": {},
   "outputs": [
    {
     "data": {
      "text/plain": [
       "212305"
      ]
     },
     "execution_count": 34,
     "metadata": {},
     "output_type": "execute_result"
    }
   ],
   "source": [
    "df.FIRSTNAME.isnull().sum()"
   ]
  },
  {
   "cell_type": "markdown",
   "metadata": {},
   "source": [
    "What do their names look like?"
   ]
  },
  {
   "cell_type": "code",
   "execution_count": 48,
   "metadata": {},
   "outputs": [
    {
     "data": {
      "text/html": [
       "<div>\n",
       "<style scoped>\n",
       "    .dataframe tbody tr th:only-of-type {\n",
       "        vertical-align: middle;\n",
       "    }\n",
       "\n",
       "    .dataframe tbody tr th {\n",
       "        vertical-align: top;\n",
       "    }\n",
       "\n",
       "    .dataframe thead th {\n",
       "        text-align: right;\n",
       "    }\n",
       "</style>\n",
       "<table border=\"1\" class=\"dataframe\">\n",
       "  <thead>\n",
       "    <tr style=\"text-align: right;\">\n",
       "      <th></th>\n",
       "      <th>LICTYPE</th>\n",
       "      <th>LICNUMBER</th>\n",
       "      <th>BIZCOUNTY</th>\n",
       "      <th>BIZNAME</th>\n",
       "      <th>BIZLINE1</th>\n",
       "      <th>BIZLINE2</th>\n",
       "      <th>BIZCITYSTATE</th>\n",
       "      <th>BIZTELEPHONE</th>\n",
       "      <th>EXPIRATION</th>\n",
       "      <th>OWNER</th>\n",
       "      <th>...</th>\n",
       "      <th>MAILINE2</th>\n",
       "      <th>MAILCITYSTATE</th>\n",
       "      <th>MAILCOUNTYCODE</th>\n",
       "      <th>MAILCOUNTY</th>\n",
       "      <th>MAILZIP</th>\n",
       "      <th>TELEPHONE</th>\n",
       "      <th>LICSUBTYPE</th>\n",
       "      <th>CEFLAG</th>\n",
       "      <th>LASTNAME</th>\n",
       "      <th>FIRSTNAME</th>\n",
       "    </tr>\n",
       "  </thead>\n",
       "  <tbody>\n",
       "    <tr>\n",
       "      <th>1501</th>\n",
       "      <td>A/C Technician</td>\n",
       "      <td>4098</td>\n",
       "      <td>ELLIS</td>\n",
       "      <td>PERRY,MARK E</td>\n",
       "      <td>NaN</td>\n",
       "      <td>NaN</td>\n",
       "      <td>NaN</td>\n",
       "      <td>NaN</td>\n",
       "      <td>2008-02-02</td>\n",
       "      <td>PERRY,MARK E</td>\n",
       "      <td>...</td>\n",
       "      <td>NaN</td>\n",
       "      <td>NaN</td>\n",
       "      <td>NaN</td>\n",
       "      <td>ELLIS</td>\n",
       "      <td>76065</td>\n",
       "      <td>NaN</td>\n",
       "      <td>REG</td>\n",
       "      <td>N</td>\n",
       "      <td>PERRY</td>\n",
       "      <td>NaN</td>\n",
       "    </tr>\n",
       "    <tr>\n",
       "      <th>2539</th>\n",
       "      <td>A/C Technician</td>\n",
       "      <td>7405</td>\n",
       "      <td>HARRIS</td>\n",
       "      <td>RENDON, JOHN-HENRY</td>\n",
       "      <td>NaN</td>\n",
       "      <td>NaN</td>\n",
       "      <td>NaN</td>\n",
       "      <td>NaN</td>\n",
       "      <td>2008-10-20</td>\n",
       "      <td>RENDON, JOHN-HENRY</td>\n",
       "      <td>...</td>\n",
       "      <td>NaN</td>\n",
       "      <td>NaN</td>\n",
       "      <td>NaN</td>\n",
       "      <td>HARRIS</td>\n",
       "      <td>77375</td>\n",
       "      <td>NaN</td>\n",
       "      <td>REG</td>\n",
       "      <td>N</td>\n",
       "      <td>RENDON</td>\n",
       "      <td>NaN</td>\n",
       "    </tr>\n",
       "    <tr>\n",
       "      <th>4264</th>\n",
       "      <td>A/C Technician</td>\n",
       "      <td>13511</td>\n",
       "      <td>FORT BEND</td>\n",
       "      <td>TIAN, LIAN-MING</td>\n",
       "      <td>NaN</td>\n",
       "      <td>NaN</td>\n",
       "      <td>NaN</td>\n",
       "      <td>NaN</td>\n",
       "      <td>2003-02-20</td>\n",
       "      <td>TIAN, LIAN-MING</td>\n",
       "      <td>...</td>\n",
       "      <td>NaN</td>\n",
       "      <td>NaN</td>\n",
       "      <td>NaN</td>\n",
       "      <td>FORT BEND</td>\n",
       "      <td>77479</td>\n",
       "      <td>NaN</td>\n",
       "      <td>REG</td>\n",
       "      <td>N</td>\n",
       "      <td>TIAN</td>\n",
       "      <td>NaN</td>\n",
       "    </tr>\n",
       "    <tr>\n",
       "      <th>5826</th>\n",
       "      <td>A/C Technician</td>\n",
       "      <td>19423</td>\n",
       "      <td>TARRANT</td>\n",
       "      <td>MEJIA ,LUIS GILBERTO JR</td>\n",
       "      <td>NaN</td>\n",
       "      <td>NaN</td>\n",
       "      <td>NaN</td>\n",
       "      <td>NaN</td>\n",
       "      <td>2002-02-08</td>\n",
       "      <td>MEJIA ,LUIS GILBERTO JR</td>\n",
       "      <td>...</td>\n",
       "      <td>NaN</td>\n",
       "      <td>NaN</td>\n",
       "      <td>NaN</td>\n",
       "      <td>TARRANT</td>\n",
       "      <td>76108</td>\n",
       "      <td>NaN</td>\n",
       "      <td>REG</td>\n",
       "      <td>N</td>\n",
       "      <td>MEJIA</td>\n",
       "      <td>NaN</td>\n",
       "    </tr>\n",
       "    <tr>\n",
       "      <th>8311</th>\n",
       "      <td>A/C Technician</td>\n",
       "      <td>29566</td>\n",
       "      <td>MATAGORDA</td>\n",
       "      <td>WILLIAMS, JAN-MICHAEL</td>\n",
       "      <td>NaN</td>\n",
       "      <td>NaN</td>\n",
       "      <td>NaN</td>\n",
       "      <td>NaN</td>\n",
       "      <td>2005-02-12</td>\n",
       "      <td>WILLIAMS, JAN-MICHAEL</td>\n",
       "      <td>...</td>\n",
       "      <td>NaN</td>\n",
       "      <td>NaN</td>\n",
       "      <td>NaN</td>\n",
       "      <td>MATAGORDA</td>\n",
       "      <td>77482</td>\n",
       "      <td>NaN</td>\n",
       "      <td>REG</td>\n",
       "      <td>N</td>\n",
       "      <td>WILLIAMS</td>\n",
       "      <td>NaN</td>\n",
       "    </tr>\n",
       "    <tr>\n",
       "      <th>...</th>\n",
       "      <td>...</td>\n",
       "      <td>...</td>\n",
       "      <td>...</td>\n",
       "      <td>...</td>\n",
       "      <td>...</td>\n",
       "      <td>...</td>\n",
       "      <td>...</td>\n",
       "      <td>...</td>\n",
       "      <td>...</td>\n",
       "      <td>...</td>\n",
       "      <td>...</td>\n",
       "      <td>...</td>\n",
       "      <td>...</td>\n",
       "      <td>...</td>\n",
       "      <td>...</td>\n",
       "      <td>...</td>\n",
       "      <td>...</td>\n",
       "      <td>...</td>\n",
       "      <td>...</td>\n",
       "      <td>...</td>\n",
       "      <td>...</td>\n",
       "    </tr>\n",
       "    <tr>\n",
       "      <th>590400</th>\n",
       "      <td>Used Auto Parts Recycler</td>\n",
       "      <td>1516</td>\n",
       "      <td>DALLAS</td>\n",
       "      <td>A &amp; M AUTO PARTS</td>\n",
       "      <td>NaN</td>\n",
       "      <td>NaN</td>\n",
       "      <td>NaN</td>\n",
       "      <td>NaN</td>\n",
       "      <td>2002-02-08</td>\n",
       "      <td>A &amp; M AUTO PARTS</td>\n",
       "      <td>...</td>\n",
       "      <td>NaN</td>\n",
       "      <td>DALLAS TX 75216-4138</td>\n",
       "      <td>0113</td>\n",
       "      <td>DALLAS</td>\n",
       "      <td>75216</td>\n",
       "      <td>2143711500</td>\n",
       "      <td>RECYCLER</td>\n",
       "      <td>N</td>\n",
       "      <td>NaN</td>\n",
       "      <td>NaN</td>\n",
       "    </tr>\n",
       "    <tr>\n",
       "      <th>590401</th>\n",
       "      <td>Used Auto Parts Recycler</td>\n",
       "      <td>1517</td>\n",
       "      <td>TARRANT</td>\n",
       "      <td>STEVENS CORE SUPPLY INC</td>\n",
       "      <td>NaN</td>\n",
       "      <td>NaN</td>\n",
       "      <td>NaN</td>\n",
       "      <td>NaN</td>\n",
       "      <td>2003-01-20</td>\n",
       "      <td>STEVENS CORE SUPPLY INC</td>\n",
       "      <td>...</td>\n",
       "      <td>NaN</td>\n",
       "      <td>SANSOM PARK TX 76114</td>\n",
       "      <td>0439</td>\n",
       "      <td>TARRANT</td>\n",
       "      <td>76114</td>\n",
       "      <td>8173329820</td>\n",
       "      <td>RECYCLER</td>\n",
       "      <td>N</td>\n",
       "      <td>NaN</td>\n",
       "      <td>NaN</td>\n",
       "    </tr>\n",
       "    <tr>\n",
       "      <th>591093</th>\n",
       "      <td>Used Auto Parts Recycler Employee</td>\n",
       "      <td>3427</td>\n",
       "      <td>TAYLOR</td>\n",
       "      <td>LOWERY,STEVEN R</td>\n",
       "      <td>NaN</td>\n",
       "      <td>NaN</td>\n",
       "      <td>NaN</td>\n",
       "      <td>NaN</td>\n",
       "      <td>2011-06-20</td>\n",
       "      <td>LOWERY,STEVEN R</td>\n",
       "      <td>...</td>\n",
       "      <td>NaN</td>\n",
       "      <td>ABILENE TX 79606</td>\n",
       "      <td>0441</td>\n",
       "      <td>TAYLOR</td>\n",
       "      <td>79606</td>\n",
       "      <td>NaN</td>\n",
       "      <td>EMPLOYEE</td>\n",
       "      <td>N</td>\n",
       "      <td>LOWERY</td>\n",
       "      <td>NaN</td>\n",
       "    </tr>\n",
       "    <tr>\n",
       "      <th>593869</th>\n",
       "      <td>VSF Employee</td>\n",
       "      <td>10082</td>\n",
       "      <td>MCLENNAN</td>\n",
       "      <td>HOFFMAN, AIMEE'</td>\n",
       "      <td>NaN</td>\n",
       "      <td>NaN</td>\n",
       "      <td>NaN</td>\n",
       "      <td>NaN</td>\n",
       "      <td>2001-02-05</td>\n",
       "      <td>HOFFMAN, AIMEE'</td>\n",
       "      <td>...</td>\n",
       "      <td>NaN</td>\n",
       "      <td>WACO</td>\n",
       "      <td>0309</td>\n",
       "      <td>MCLENNAN</td>\n",
       "      <td>76712</td>\n",
       "      <td>NaN</td>\n",
       "      <td>NaN</td>\n",
       "      <td>N</td>\n",
       "      <td>HOFFMAN</td>\n",
       "      <td>NaN</td>\n",
       "    </tr>\n",
       "    <tr>\n",
       "      <th>594890</th>\n",
       "      <td>VSF Employee</td>\n",
       "      <td>12926</td>\n",
       "      <td>HARRIS</td>\n",
       "      <td>MCKENZIE, O'SHANEIA</td>\n",
       "      <td>NaN</td>\n",
       "      <td>NaN</td>\n",
       "      <td>NaN</td>\n",
       "      <td>NaN</td>\n",
       "      <td>2004-02-07</td>\n",
       "      <td>MCKENZIE, O'SHANEIA</td>\n",
       "      <td>...</td>\n",
       "      <td>NaN</td>\n",
       "      <td>HOUSTON</td>\n",
       "      <td>0201</td>\n",
       "      <td>HARRIS</td>\n",
       "      <td>77047</td>\n",
       "      <td>NaN</td>\n",
       "      <td>NaN</td>\n",
       "      <td>N</td>\n",
       "      <td>MCKENZIE</td>\n",
       "      <td>NaN</td>\n",
       "    </tr>\n",
       "  </tbody>\n",
       "</table>\n",
       "<p>82900 rows × 21 columns</p>\n",
       "</div>"
      ],
      "text/plain": [
       "                                  LICTYPE LICNUMBER  BIZCOUNTY  \\\n",
       "1501                       A/C Technician      4098      ELLIS   \n",
       "2539                       A/C Technician      7405     HARRIS   \n",
       "4264                       A/C Technician     13511  FORT BEND   \n",
       "5826                       A/C Technician     19423    TARRANT   \n",
       "8311                       A/C Technician     29566  MATAGORDA   \n",
       "...                                   ...       ...        ...   \n",
       "590400           Used Auto Parts Recycler      1516     DALLAS   \n",
       "590401           Used Auto Parts Recycler      1517    TARRANT   \n",
       "591093  Used Auto Parts Recycler Employee      3427     TAYLOR   \n",
       "593869                       VSF Employee     10082   MCLENNAN   \n",
       "594890                       VSF Employee     12926     HARRIS   \n",
       "\n",
       "                        BIZNAME  BIZLINE1  BIZLINE2  BIZCITYSTATE  \\\n",
       "1501               PERRY,MARK E       NaN       NaN           NaN   \n",
       "2539         RENDON, JOHN-HENRY       NaN       NaN           NaN   \n",
       "4264            TIAN, LIAN-MING       NaN       NaN           NaN   \n",
       "5826    MEJIA ,LUIS GILBERTO JR       NaN       NaN           NaN   \n",
       "8311      WILLIAMS, JAN-MICHAEL       NaN       NaN           NaN   \n",
       "...                         ...       ...       ...           ...   \n",
       "590400         A & M AUTO PARTS       NaN       NaN           NaN   \n",
       "590401  STEVENS CORE SUPPLY INC       NaN       NaN           NaN   \n",
       "591093          LOWERY,STEVEN R       NaN       NaN           NaN   \n",
       "593869          HOFFMAN, AIMEE'       NaN       NaN           NaN   \n",
       "594890      MCKENZIE, O'SHANEIA       NaN       NaN           NaN   \n",
       "\n",
       "        BIZTELEPHONE EXPIRATION                    OWNER  ... MAILINE2  \\\n",
       "1501             NaN 2008-02-02             PERRY,MARK E  ...      NaN   \n",
       "2539             NaN 2008-10-20       RENDON, JOHN-HENRY  ...      NaN   \n",
       "4264             NaN 2003-02-20          TIAN, LIAN-MING  ...      NaN   \n",
       "5826             NaN 2002-02-08  MEJIA ,LUIS GILBERTO JR  ...      NaN   \n",
       "8311             NaN 2005-02-12    WILLIAMS, JAN-MICHAEL  ...      NaN   \n",
       "...              ...        ...                      ...  ...      ...   \n",
       "590400           NaN 2002-02-08         A & M AUTO PARTS  ...      NaN   \n",
       "590401           NaN 2003-01-20  STEVENS CORE SUPPLY INC  ...      NaN   \n",
       "591093           NaN 2011-06-20          LOWERY,STEVEN R  ...      NaN   \n",
       "593869           NaN 2001-02-05          HOFFMAN, AIMEE'  ...      NaN   \n",
       "594890           NaN 2004-02-07      MCKENZIE, O'SHANEIA  ...      NaN   \n",
       "\n",
       "               MAILCITYSTATE MAILCOUNTYCODE MAILCOUNTY MAILZIP   TELEPHONE  \\\n",
       "1501                     NaN            NaN      ELLIS   76065         NaN   \n",
       "2539                     NaN            NaN     HARRIS   77375         NaN   \n",
       "4264                     NaN            NaN  FORT BEND   77479         NaN   \n",
       "5826                     NaN            NaN    TARRANT   76108         NaN   \n",
       "8311                     NaN            NaN  MATAGORDA   77482         NaN   \n",
       "...                      ...            ...        ...     ...         ...   \n",
       "590400  DALLAS TX 75216-4138           0113     DALLAS   75216  2143711500   \n",
       "590401  SANSOM PARK TX 76114           0439    TARRANT   76114  8173329820   \n",
       "591093      ABILENE TX 79606           0441     TAYLOR   79606         NaN   \n",
       "593869                  WACO           0309   MCLENNAN   76712         NaN   \n",
       "594890               HOUSTON           0201     HARRIS   77047         NaN   \n",
       "\n",
       "       LICSUBTYPE CEFLAG  LASTNAME FIRSTNAME  \n",
       "1501          REG      N     PERRY       NaN  \n",
       "2539          REG      N    RENDON       NaN  \n",
       "4264          REG      N      TIAN       NaN  \n",
       "5826          REG      N    MEJIA        NaN  \n",
       "8311          REG      N  WILLIAMS       NaN  \n",
       "...           ...    ...       ...       ...  \n",
       "590400   RECYCLER      N       NaN       NaN  \n",
       "590401   RECYCLER      N       NaN       NaN  \n",
       "591093   EMPLOYEE      N    LOWERY       NaN  \n",
       "593869        NaN      N   HOFFMAN       NaN  \n",
       "594890        NaN      N  MCKENZIE       NaN  \n",
       "\n",
       "[82900 rows x 21 columns]"
      ]
     },
     "execution_count": 48,
     "metadata": {},
     "output_type": "execute_result"
    }
   ],
   "source": [
    "## I don't know how to answer this.\n",
    "\n",
    "df[df.FIRSTNAME.isnull()]"
   ]
  },
  {
   "cell_type": "markdown",
   "metadata": {},
   "source": [
    "## 24. If it's a problem, you can fix it (if you'd like!)\n",
    "\n",
    "Maybe you have another regular expression that works better with JUST these people? It really depends on how you've put together your previous regex!\n",
    "\n",
    "If you'd like to use a separate regex for this group, you can use code like this:\n",
    "\n",
    "`df.loc[df.FIRSTNAME.isnull(), 'FIRSTNAME'] = .....`\n",
    "\n",
    "That will only set the `FIRSTNAME` for people where `FIRSTNAME` is null."
   ]
  },
  {
   "cell_type": "code",
   "execution_count": 36,
   "metadata": {},
   "outputs": [],
   "source": [
    "df.loc[df.FIRSTNAME.isnull(), 'FIRSTNAME'] = df[\"OWNER\"].str.extract(\", (\\w*)$\", expand=False)"
   ]
  },
  {
   "cell_type": "markdown",
   "metadata": {},
   "source": [
    "How many empty first names do we have now?"
   ]
  },
  {
   "cell_type": "code",
   "execution_count": 49,
   "metadata": {},
   "outputs": [],
   "source": []
  },
  {
   "cell_type": "markdown",
   "metadata": {},
   "source": [
    "My code before only worked for people with middle names, but now it got people without middle names, too. Looking much better!"
   ]
  },
  {
   "cell_type": "markdown",
   "metadata": {},
   "source": [
    "## 25. Most popular first names?"
   ]
  },
  {
   "cell_type": "code",
   "execution_count": 50,
   "metadata": {},
   "outputs": [
    {
     "data": {
      "text/plain": [
       "JOSE         6462\n",
       "MICHAEL      5447\n",
       "DAVID        4960\n",
       "MARIA        4648\n",
       "JAMES        4217\n",
       "             ... \n",
       "DOLLYBETH       1\n",
       "QUILES          1\n",
       "YONEKO          1\n",
       "MYISHA          1\n",
       "SHIVELE         1\n",
       "Name: FIRSTNAME, Length: 51609, dtype: int64"
      ]
     },
     "execution_count": 50,
     "metadata": {},
     "output_type": "execute_result"
    }
   ],
   "source": [
    "df.FIRSTNAME.value_counts()"
   ]
  },
  {
   "cell_type": "markdown",
   "metadata": {},
   "source": [
    "## 26. Most popular first names for a Cosmetology Operator, Cosmetology Esthetician, Cosmetologist, and anything that seems similar?\n",
    "\n",
    "If you get an error about \"cannot index vector containing NA / NaN values\" remember `.fillna(False)` or `na=False` - if a row doesn't have a license, it doesn't give a `True`/`False`, so we force all of the empty rows to be `False`."
   ]
  },
  {
   "cell_type": "code",
   "execution_count": 51,
   "metadata": {},
   "outputs": [
    {
     "data": {
      "text/plain": [
       "count       0\n",
       "unique      0\n",
       "top       NaN\n",
       "freq      NaN\n",
       "Name: FIRSTNAME, dtype: object"
      ]
     },
     "execution_count": 51,
     "metadata": {},
     "output_type": "execute_result"
    }
   ],
   "source": [
    "## Come back to this one as well.\n",
    "\n",
    "df[df.LICTYPE.isin(['COSMETOLOGY ESTHETICIAN', 'COSMETOLOGIST', 'COSMETOLOGY OPERATOR'])].FIRSTNAME.describe()"
   ]
  },
  {
   "cell_type": "markdown",
   "metadata": {},
   "source": [
    "## 27. Most popular first names for anything involving electricity?"
   ]
  },
  {
   "cell_type": "code",
   "execution_count": 39,
   "metadata": {},
   "outputs": [],
   "source": [
    "## Come back to this one as well...as well"
   ]
  },
  {
   "cell_type": "markdown",
   "metadata": {},
   "source": [
    "## 28. Can we be any more obnoxious in this assignment?\n",
    "\n",
    "A terrible thing that data analysts are often guilty of is using names to make assumptions about people. Beyond stereotypes involving last names, first names are often used to predict someone's race, ethnic background, or gender.\n",
    "\n",
    "And if that isn't bad enough: if we were looking for Python libraries to do this sort of analysis, we'd come across [sex machine](https://github.com/ferhatelmas/sexmachine/). Once upon a time there was Ruby package named sex machine and everyone was like \"come on are you six years old? is this how we do things?\" and the guy was like \"you're completely right I'm renaming it to [gender detector](https://github.com/bmuller/gender_detector)\" and the world was Nice and Good again.\n",
    "\n",
    "How'd it happen? [On Github, in a pull request!](https://github.com/bmuller/gender_detector/pull/14) Neat, right?\n",
    "\n",
    "But yeah: apparently Python didn't get the message.\n",
    "\n",
    "The sexmachine package doesn't work on Python 3 because it's from 300 BC, so we're going to use a Python 3 fork with the less problematic name [gender guesser](https://pypi.python.org/pypi/gender-guesser/).\n",
    "\n",
    "#### Use `pip` or `pip3` to install gender-guesser."
   ]
  },
  {
   "cell_type": "code",
   "execution_count": 40,
   "metadata": {},
   "outputs": [
    {
     "name": "stdout",
     "output_type": "stream",
     "text": [
      "Requirement already satisfied: gender-guesser in c:\\users\\aefar\\appdata\\local\\programs\\python\\python38\\lib\\site-packages (0.4.0)\n"
     ]
    },
    {
     "name": "stderr",
     "output_type": "stream",
     "text": [
      "WARNING: You are using pip version 20.2.1; however, version 20.2.4 is available.\n",
      "You should consider upgrading via the 'c:\\users\\aefar\\appdata\\local\\programs\\python\\python38\\python.exe -m pip install --upgrade pip' command.\n"
     ]
    }
   ],
   "source": [
    "!pip install gender-guesser"
   ]
  },
  {
   "cell_type": "markdown",
   "metadata": {},
   "source": [
    "#### Run this code to test to see that it works"
   ]
  },
  {
   "cell_type": "code",
   "execution_count": 41,
   "metadata": {},
   "outputs": [
    {
     "data": {
      "text/plain": [
       "'male'"
      ]
     },
     "execution_count": 41,
     "metadata": {},
     "output_type": "execute_result"
    }
   ],
   "source": [
    "import gender_guesser.detector as gender\n",
    "\n",
    "detector = gender.Detector(case_sensitive=False)\n",
    "detector.get_gender('David')"
   ]
  },
  {
   "cell_type": "code",
   "execution_count": 42,
   "metadata": {},
   "outputs": [
    {
     "data": {
      "text/plain": [
       "'male'"
      ]
     },
     "execution_count": 42,
     "metadata": {},
     "output_type": "execute_result"
    }
   ],
   "source": [
    "detector.get_gender('Jose')"
   ]
  },
  {
   "cell_type": "code",
   "execution_count": 43,
   "metadata": {},
   "outputs": [
    {
     "data": {
      "text/plain": [
       "'female'"
      ]
     },
     "execution_count": 43,
     "metadata": {},
     "output_type": "execute_result"
    }
   ],
   "source": [
    "detector.get_gender('Maria')"
   ]
  },
  {
   "cell_type": "markdown",
   "metadata": {},
   "source": [
    "#### Use it on a dataframe\n",
    "\n",
    "To use something fancy like that on a dataframe, you use `.apply`. Check it out: "
   ]
  },
  {
   "cell_type": "code",
   "execution_count": 44,
   "metadata": {},
   "outputs": [
    {
     "data": {
      "text/plain": [
       "0       male\n",
       "1       male\n",
       "2       male\n",
       "3    unknown\n",
       "4       male\n",
       "Name: FIRSTNAME, dtype: object"
      ]
     },
     "execution_count": 44,
     "metadata": {},
     "output_type": "execute_result"
    }
   ],
   "source": [
    "df['FIRSTNAME'].fillna('').apply(lambda name: detector.get_gender(name)).head()"
   ]
  },
  {
   "cell_type": "markdown",
   "metadata": {},
   "source": [
    "## 29. Calculate the gender of everyone's first name and save it to a column\n",
    "\n",
    "Confirm by see how many people of each gender we have"
   ]
  },
  {
   "cell_type": "code",
   "execution_count": 45,
   "metadata": {},
   "outputs": [
    {
     "data": {
      "text/plain": [
       "male             208826\n",
       "unknown          169868\n",
       "female           145491\n",
       "mostly_female     33025\n",
       "mostly_male       24038\n",
       "andy              16568\n",
       "Name: FIRSTNAME, dtype: int64"
      ]
     },
     "execution_count": 45,
     "metadata": {},
     "output_type": "execute_result"
    }
   ],
   "source": [
    "df['FIRSTNAME'].fillna('').apply(lambda name: detector.get_gender(name)).value_counts()"
   ]
  },
  {
   "cell_type": "markdown",
   "metadata": {},
   "source": [
    "## 30. We like our data to be in tidy binary categories\n",
    "\n",
    "* Combine the `mostly_female` into `female` \n",
    "* Combine the `mostly_male` into `male`\n",
    "* Replace `andy` (androgynous) and `unknown` with `NaN`\n",
    "\n",
    "you can get NaN not by making a string, but with `import numpy as np` and then using `np.nan`."
   ]
  },
  {
   "cell_type": "code",
   "execution_count": 46,
   "metadata": {},
   "outputs": [
    {
     "data": {
      "text/html": [
       "<div>\n",
       "<style scoped>\n",
       "    .dataframe tbody tr th:only-of-type {\n",
       "        vertical-align: middle;\n",
       "    }\n",
       "\n",
       "    .dataframe tbody tr th {\n",
       "        vertical-align: top;\n",
       "    }\n",
       "\n",
       "    .dataframe thead th {\n",
       "        text-align: right;\n",
       "    }\n",
       "</style>\n",
       "<table border=\"1\" class=\"dataframe\">\n",
       "  <thead>\n",
       "    <tr style=\"text-align: right;\">\n",
       "      <th></th>\n",
       "      <th>LICTYPE</th>\n",
       "      <th>LICNUMBER</th>\n",
       "      <th>BIZCOUNTY</th>\n",
       "      <th>BIZNAME</th>\n",
       "      <th>BIZLINE1</th>\n",
       "      <th>BIZLINE2</th>\n",
       "      <th>BIZCITYSTATE</th>\n",
       "      <th>BIZTELEPHONE</th>\n",
       "      <th>EXPIRATION</th>\n",
       "      <th>OWNER</th>\n",
       "      <th>...</th>\n",
       "      <th>MAILINE2</th>\n",
       "      <th>MAILCITYSTATE</th>\n",
       "      <th>MAILCOUNTYCODE</th>\n",
       "      <th>MAILCOUNTY</th>\n",
       "      <th>MAILZIP</th>\n",
       "      <th>TELEPHONE</th>\n",
       "      <th>LICSUBTYPE</th>\n",
       "      <th>CEFLAG</th>\n",
       "      <th>LASTNAME</th>\n",
       "      <th>FIRSTNAME</th>\n",
       "    </tr>\n",
       "  </thead>\n",
       "  <tbody>\n",
       "    <tr>\n",
       "      <th>0</th>\n",
       "      <td>Associate Auctioneer</td>\n",
       "      <td>7326</td>\n",
       "      <td>ANGELINA</td>\n",
       "      <td>RISINGER, JIM MARVIN</td>\n",
       "      <td>NaN</td>\n",
       "      <td>NaN</td>\n",
       "      <td>NaN</td>\n",
       "      <td>NaN</td>\n",
       "      <td>2008-10-20</td>\n",
       "      <td>RISINGER, JIM MARVIN</td>\n",
       "      <td>...</td>\n",
       "      <td>NaN</td>\n",
       "      <td>NACOGDOCHES TX 75964</td>\n",
       "      <td>0347</td>\n",
       "      <td>NACOGDOCHES</td>\n",
       "      <td>75964</td>\n",
       "      <td>9363665745</td>\n",
       "      <td>NaN</td>\n",
       "      <td>N</td>\n",
       "      <td>RISINGER</td>\n",
       "      <td>JIM</td>\n",
       "    </tr>\n",
       "    <tr>\n",
       "      <th>1</th>\n",
       "      <td>Associate Auctioneer</td>\n",
       "      <td>7962</td>\n",
       "      <td>UPSHUR</td>\n",
       "      <td>WILLIAMS, JON ANDRE</td>\n",
       "      <td>NaN</td>\n",
       "      <td>NaN</td>\n",
       "      <td>NaN</td>\n",
       "      <td>NaN</td>\n",
       "      <td>2012-02-09</td>\n",
       "      <td>WILLIAMS, JON ANDRE</td>\n",
       "      <td>...</td>\n",
       "      <td>NaN</td>\n",
       "      <td>KILGORE TX 75662</td>\n",
       "      <td>0183</td>\n",
       "      <td>GREGG</td>\n",
       "      <td>75662</td>\n",
       "      <td>9039187899</td>\n",
       "      <td>NaN</td>\n",
       "      <td>N</td>\n",
       "      <td>WILLIAMS</td>\n",
       "      <td>JON</td>\n",
       "    </tr>\n",
       "    <tr>\n",
       "      <th>2</th>\n",
       "      <td>Associate Auctioneer</td>\n",
       "      <td>8406</td>\n",
       "      <td>WILSON</td>\n",
       "      <td>GUEVARA, JUAN ANTONIO</td>\n",
       "      <td>NaN</td>\n",
       "      <td>NaN</td>\n",
       "      <td>NaN</td>\n",
       "      <td>NaN</td>\n",
       "      <td>2009-02-06</td>\n",
       "      <td>GUEVARA, JUAN ANTONIO</td>\n",
       "      <td>...</td>\n",
       "      <td>NaN</td>\n",
       "      <td>POTH TX 78147</td>\n",
       "      <td>0493</td>\n",
       "      <td>WILSON</td>\n",
       "      <td>78147</td>\n",
       "      <td>NaN</td>\n",
       "      <td>NaN</td>\n",
       "      <td>N</td>\n",
       "      <td>GUEVARA</td>\n",
       "      <td>JUAN</td>\n",
       "    </tr>\n",
       "    <tr>\n",
       "      <th>3</th>\n",
       "      <td>Associate Auctioneer</td>\n",
       "      <td>10543</td>\n",
       "      <td>HARRIS</td>\n",
       "      <td>BOWERS, JAMES BRISCOE II</td>\n",
       "      <td>NaN</td>\n",
       "      <td>NaN</td>\n",
       "      <td>NaN</td>\n",
       "      <td>NaN</td>\n",
       "      <td>2011-04-20</td>\n",
       "      <td>BOWERS, JAMES BRISCOE II</td>\n",
       "      <td>...</td>\n",
       "      <td>NaN</td>\n",
       "      <td>HOUSTON TX 77076-2027</td>\n",
       "      <td>0201</td>\n",
       "      <td>HARRIS</td>\n",
       "      <td>77076</td>\n",
       "      <td>7136445566</td>\n",
       "      <td>NaN</td>\n",
       "      <td>N</td>\n",
       "      <td>BOWERS</td>\n",
       "      <td>JAMES BRISCOE</td>\n",
       "    </tr>\n",
       "    <tr>\n",
       "      <th>4</th>\n",
       "      <td>Associate Auctioneer</td>\n",
       "      <td>10642</td>\n",
       "      <td>BELL</td>\n",
       "      <td>DEMSKY, JOHN EDWARD</td>\n",
       "      <td>NaN</td>\n",
       "      <td>NaN</td>\n",
       "      <td>NaN</td>\n",
       "      <td>NaN</td>\n",
       "      <td>2002-02-05</td>\n",
       "      <td>DEMSKY, JOHN EDWARD</td>\n",
       "      <td>...</td>\n",
       "      <td>NaN</td>\n",
       "      <td>BARTLETT TX 76511</td>\n",
       "      <td>0027</td>\n",
       "      <td>BELL</td>\n",
       "      <td>76511</td>\n",
       "      <td>2549852228</td>\n",
       "      <td>NaN</td>\n",
       "      <td>N</td>\n",
       "      <td>DEMSKY</td>\n",
       "      <td>JOHN</td>\n",
       "    </tr>\n",
       "    <tr>\n",
       "      <th>...</th>\n",
       "      <td>...</td>\n",
       "      <td>...</td>\n",
       "      <td>...</td>\n",
       "      <td>...</td>\n",
       "      <td>...</td>\n",
       "      <td>...</td>\n",
       "      <td>...</td>\n",
       "      <td>...</td>\n",
       "      <td>...</td>\n",
       "      <td>...</td>\n",
       "      <td>...</td>\n",
       "      <td>...</td>\n",
       "      <td>...</td>\n",
       "      <td>...</td>\n",
       "      <td>...</td>\n",
       "      <td>...</td>\n",
       "      <td>...</td>\n",
       "      <td>...</td>\n",
       "      <td>...</td>\n",
       "      <td>...</td>\n",
       "      <td>...</td>\n",
       "    </tr>\n",
       "    <tr>\n",
       "      <th>597811</th>\n",
       "      <td>Water Well Driller/Pump Installer</td>\n",
       "      <td>59930</td>\n",
       "      <td>TOM GREEN</td>\n",
       "      <td>ABEL, JUSTIN C</td>\n",
       "      <td>NaN</td>\n",
       "      <td>NaN</td>\n",
       "      <td>NaN</td>\n",
       "      <td>NaN</td>\n",
       "      <td>2001-02-03</td>\n",
       "      <td>ABEL, JUSTIN C</td>\n",
       "      <td>...</td>\n",
       "      <td>NaN</td>\n",
       "      <td>SAN ANGELO TX 76901-9716</td>\n",
       "      <td>0451</td>\n",
       "      <td>TOM GREEN</td>\n",
       "      <td>76901</td>\n",
       "      <td>3259496607</td>\n",
       "      <td>KP</td>\n",
       "      <td>N</td>\n",
       "      <td>ABEL</td>\n",
       "      <td>JUSTIN</td>\n",
       "    </tr>\n",
       "    <tr>\n",
       "      <th>597812</th>\n",
       "      <td>Water Well Driller/Pump Installer</td>\n",
       "      <td>59931</td>\n",
       "      <td>RUNNELS</td>\n",
       "      <td>GRAY, MATTHEW BRYAN</td>\n",
       "      <td>NaN</td>\n",
       "      <td>NaN</td>\n",
       "      <td>NaN</td>\n",
       "      <td>NaN</td>\n",
       "      <td>2001-02-03</td>\n",
       "      <td>GRAY, MATTHEW BRYAN</td>\n",
       "      <td>...</td>\n",
       "      <td>NaN</td>\n",
       "      <td>ROWENA TX 76875-2608</td>\n",
       "      <td>0399</td>\n",
       "      <td>RUNNELS</td>\n",
       "      <td>76875</td>\n",
       "      <td>3254422331</td>\n",
       "      <td>KLPW</td>\n",
       "      <td>N</td>\n",
       "      <td>GRAY</td>\n",
       "      <td>MATTHEW</td>\n",
       "    </tr>\n",
       "    <tr>\n",
       "      <th>597813</th>\n",
       "      <td>Water Well Driller/Pump Installer</td>\n",
       "      <td>59934</td>\n",
       "      <td>LAVACA</td>\n",
       "      <td>MAYER, DAVID W</td>\n",
       "      <td>NaN</td>\n",
       "      <td>NaN</td>\n",
       "      <td>NaN</td>\n",
       "      <td>NaN</td>\n",
       "      <td>2001-02-07</td>\n",
       "      <td>MAYER, DAVID W</td>\n",
       "      <td>...</td>\n",
       "      <td>NaN</td>\n",
       "      <td>YOAKUM TX 77995-6786</td>\n",
       "      <td>0285</td>\n",
       "      <td>LAVACA</td>\n",
       "      <td>77995</td>\n",
       "      <td>3612933168</td>\n",
       "      <td>P</td>\n",
       "      <td>N</td>\n",
       "      <td>MAYER</td>\n",
       "      <td>DAVID</td>\n",
       "    </tr>\n",
       "    <tr>\n",
       "      <th>597814</th>\n",
       "      <td>Water Well Driller/Pump Installer</td>\n",
       "      <td>59936</td>\n",
       "      <td>HOCKLEY</td>\n",
       "      <td>FRIESEN, FRANCISCO FEHR</td>\n",
       "      <td>NaN</td>\n",
       "      <td>NaN</td>\n",
       "      <td>NaN</td>\n",
       "      <td>NaN</td>\n",
       "      <td>2002-01-03</td>\n",
       "      <td>FRIESEN, FRANCISCO FEHR</td>\n",
       "      <td>...</td>\n",
       "      <td>NaN</td>\n",
       "      <td>LEVELLAND TX 79336-9124</td>\n",
       "      <td>0219</td>\n",
       "      <td>HOCKLEY</td>\n",
       "      <td>79336</td>\n",
       "      <td>8065980508</td>\n",
       "      <td>W</td>\n",
       "      <td>N</td>\n",
       "      <td>FRIESEN</td>\n",
       "      <td>FRANCISCO</td>\n",
       "    </tr>\n",
       "    <tr>\n",
       "      <th>597815</th>\n",
       "      <td>Water Well Driller/Pump Installer</td>\n",
       "      <td>59941</td>\n",
       "      <td>WILSON</td>\n",
       "      <td>BAUER, DAVID A</td>\n",
       "      <td>NaN</td>\n",
       "      <td>NaN</td>\n",
       "      <td>NaN</td>\n",
       "      <td>NaN</td>\n",
       "      <td>2002-01-06</td>\n",
       "      <td>BAUER, DAVID A</td>\n",
       "      <td>...</td>\n",
       "      <td>NaN</td>\n",
       "      <td>FLORESVILLE TX 78114-6076</td>\n",
       "      <td>0493</td>\n",
       "      <td>WILSON</td>\n",
       "      <td>78114</td>\n",
       "      <td>8303917338</td>\n",
       "      <td>W</td>\n",
       "      <td>N</td>\n",
       "      <td>BAUER</td>\n",
       "      <td>DAVID</td>\n",
       "    </tr>\n",
       "  </tbody>\n",
       "</table>\n",
       "<p>597816 rows × 21 columns</p>\n",
       "</div>"
      ],
      "text/plain": [
       "                                  LICTYPE LICNUMBER  BIZCOUNTY  \\\n",
       "0                    Associate Auctioneer      7326   ANGELINA   \n",
       "1                    Associate Auctioneer      7962     UPSHUR   \n",
       "2                    Associate Auctioneer      8406     WILSON   \n",
       "3                    Associate Auctioneer     10543     HARRIS   \n",
       "4                    Associate Auctioneer     10642       BELL   \n",
       "...                                   ...       ...        ...   \n",
       "597811  Water Well Driller/Pump Installer     59930  TOM GREEN   \n",
       "597812  Water Well Driller/Pump Installer     59931    RUNNELS   \n",
       "597813  Water Well Driller/Pump Installer     59934     LAVACA   \n",
       "597814  Water Well Driller/Pump Installer     59936    HOCKLEY   \n",
       "597815  Water Well Driller/Pump Installer     59941     WILSON   \n",
       "\n",
       "                         BIZNAME  BIZLINE1  BIZLINE2  BIZCITYSTATE  \\\n",
       "0           RISINGER, JIM MARVIN       NaN       NaN           NaN   \n",
       "1            WILLIAMS, JON ANDRE       NaN       NaN           NaN   \n",
       "2          GUEVARA, JUAN ANTONIO       NaN       NaN           NaN   \n",
       "3       BOWERS, JAMES BRISCOE II       NaN       NaN           NaN   \n",
       "4            DEMSKY, JOHN EDWARD       NaN       NaN           NaN   \n",
       "...                          ...       ...       ...           ...   \n",
       "597811            ABEL, JUSTIN C       NaN       NaN           NaN   \n",
       "597812       GRAY, MATTHEW BRYAN       NaN       NaN           NaN   \n",
       "597813            MAYER, DAVID W       NaN       NaN           NaN   \n",
       "597814   FRIESEN, FRANCISCO FEHR       NaN       NaN           NaN   \n",
       "597815            BAUER, DAVID A       NaN       NaN           NaN   \n",
       "\n",
       "        BIZTELEPHONE EXPIRATION                     OWNER  ... MAILINE2  \\\n",
       "0                NaN 2008-10-20      RISINGER, JIM MARVIN  ...      NaN   \n",
       "1                NaN 2012-02-09       WILLIAMS, JON ANDRE  ...      NaN   \n",
       "2                NaN 2009-02-06     GUEVARA, JUAN ANTONIO  ...      NaN   \n",
       "3                NaN 2011-04-20  BOWERS, JAMES BRISCOE II  ...      NaN   \n",
       "4                NaN 2002-02-05       DEMSKY, JOHN EDWARD  ...      NaN   \n",
       "...              ...        ...                       ...  ...      ...   \n",
       "597811           NaN 2001-02-03            ABEL, JUSTIN C  ...      NaN   \n",
       "597812           NaN 2001-02-03       GRAY, MATTHEW BRYAN  ...      NaN   \n",
       "597813           NaN 2001-02-07            MAYER, DAVID W  ...      NaN   \n",
       "597814           NaN 2002-01-03   FRIESEN, FRANCISCO FEHR  ...      NaN   \n",
       "597815           NaN 2002-01-06            BAUER, DAVID A  ...      NaN   \n",
       "\n",
       "                    MAILCITYSTATE MAILCOUNTYCODE   MAILCOUNTY MAILZIP  \\\n",
       "0            NACOGDOCHES TX 75964           0347  NACOGDOCHES   75964   \n",
       "1                KILGORE TX 75662           0183        GREGG   75662   \n",
       "2                   POTH TX 78147           0493       WILSON   78147   \n",
       "3           HOUSTON TX 77076-2027           0201       HARRIS   77076   \n",
       "4               BARTLETT TX 76511           0027         BELL   76511   \n",
       "...                           ...            ...          ...     ...   \n",
       "597811   SAN ANGELO TX 76901-9716           0451    TOM GREEN   76901   \n",
       "597812       ROWENA TX 76875-2608           0399      RUNNELS   76875   \n",
       "597813       YOAKUM TX 77995-6786           0285       LAVACA   77995   \n",
       "597814    LEVELLAND TX 79336-9124           0219      HOCKLEY   79336   \n",
       "597815  FLORESVILLE TX 78114-6076           0493       WILSON   78114   \n",
       "\n",
       "         TELEPHONE LICSUBTYPE CEFLAG  LASTNAME      FIRSTNAME  \n",
       "0       9363665745        NaN      N  RISINGER            JIM  \n",
       "1       9039187899        NaN      N  WILLIAMS            JON  \n",
       "2              NaN        NaN      N   GUEVARA           JUAN  \n",
       "3       7136445566        NaN      N    BOWERS  JAMES BRISCOE  \n",
       "4       2549852228        NaN      N    DEMSKY           JOHN  \n",
       "...            ...        ...    ...       ...            ...  \n",
       "597811  3259496607         KP      N      ABEL         JUSTIN  \n",
       "597812  3254422331       KLPW      N      GRAY        MATTHEW  \n",
       "597813  3612933168          P      N     MAYER          DAVID  \n",
       "597814  8065980508          W      N   FRIESEN      FRANCISCO  \n",
       "597815  8303917338          W      N     BAUER          DAVID  \n",
       "\n",
       "[597816 rows x 21 columns]"
      ]
     },
     "execution_count": 46,
     "metadata": {},
     "output_type": "execute_result"
    }
   ],
   "source": [
    "import numpy as np\n",
    "df.replace(\"mostly_female\",\"female\")\n",
    "df.replace(\"mostly_male\",\"male\")\n",
    "df.replace('andy','np.nan')\n",
    "df.replace('unknown','np.nan')"
   ]
  },
  {
   "cell_type": "markdown",
   "metadata": {},
   "source": [
    "## 31. Do men or women have more licenses? What is the percentage of unknown genders?"
   ]
  },
  {
   "cell_type": "code",
   "execution_count": null,
   "metadata": {},
   "outputs": [],
   "source": []
  },
  {
   "cell_type": "code",
   "execution_count": null,
   "metadata": {},
   "outputs": [],
   "source": []
  },
  {
   "cell_type": "markdown",
   "metadata": {},
   "source": [
    "## 32. What are the popular unknown- or ambiguous gender first names?\n",
    "\n",
    "Yours might be different! Mine is a combination of actual ambiguity, cultural bias and dirty data."
   ]
  },
  {
   "cell_type": "code",
   "execution_count": null,
   "metadata": {},
   "outputs": [],
   "source": []
  },
  {
   "cell_type": "markdown",
   "metadata": {},
   "source": [
    "## 33. Manually check a few, too \n",
    "\n",
    "Using [a list of \"gender-neutral baby names\"](https://www.popsugar.com/family/Gender-Neutral-Baby-Names-34485564), pick a few names and check what results the library gives you."
   ]
  },
  {
   "cell_type": "code",
   "execution_count": null,
   "metadata": {},
   "outputs": [],
   "source": []
  },
  {
   "cell_type": "markdown",
   "metadata": {},
   "source": [
    "## 34. What are the most popular licenses for men? For women?"
   ]
  },
  {
   "cell_type": "code",
   "execution_count": null,
   "metadata": {},
   "outputs": [],
   "source": []
  },
  {
   "cell_type": "code",
   "execution_count": null,
   "metadata": {},
   "outputs": [],
   "source": []
  },
  {
   "cell_type": "markdown",
   "metadata": {},
   "source": [
    "## 35. What is the gender breakdown for Property Tax Appraiser? How about anything involving Tow Trucks?\n",
    "\n",
    "If you're in need, remember your good friend `.fillna(False)` to get rid of NaN values, or `.na=False` with `.str.contains`."
   ]
  },
  {
   "cell_type": "code",
   "execution_count": null,
   "metadata": {},
   "outputs": [],
   "source": []
  },
  {
   "cell_type": "code",
   "execution_count": null,
   "metadata": {},
   "outputs": [],
   "source": []
  },
  {
   "cell_type": "markdown",
   "metadata": {},
   "source": [
    "(By the way, what are those tow truck jobs?)"
   ]
  },
  {
   "cell_type": "code",
   "execution_count": null,
   "metadata": {},
   "outputs": [],
   "source": []
  },
  {
   "cell_type": "markdown",
   "metadata": {},
   "source": [
    "## 33. Graph them!\n",
    "\n",
    "And let's **give them titles** so we know which is which."
   ]
  },
  {
   "cell_type": "code",
   "execution_count": null,
   "metadata": {},
   "outputs": [],
   "source": []
  },
  {
   "cell_type": "code",
   "execution_count": null,
   "metadata": {},
   "outputs": [],
   "source": []
  },
  {
   "cell_type": "markdown",
   "metadata": {},
   "source": [
    "## 34. Calcuate the supposed gender bias for profession\n",
    "\n",
    "I spent like an hour on this and then realized a super easy way to do it. Welcome to programming! I'll do this part for you."
   ]
  },
  {
   "cell_type": "code",
   "execution_count": 47,
   "metadata": {},
   "outputs": [
    {
     "ename": "KeyError",
     "evalue": "'GENDER'",
     "output_type": "error",
     "traceback": [
      "\u001b[1;31m---------------------------------------------------------------------------\u001b[0m",
      "\u001b[1;31mKeyError\u001b[0m                                  Traceback (most recent call last)",
      "\u001b[1;32m~\\AppData\\Local\\Programs\\Python\\Python38\\lib\\site-packages\\pandas\\core\\indexes\\base.py\u001b[0m in \u001b[0;36mget_loc\u001b[1;34m(self, key, method, tolerance)\u001b[0m\n\u001b[0;32m   2894\u001b[0m             \u001b[1;32mtry\u001b[0m\u001b[1;33m:\u001b[0m\u001b[1;33m\u001b[0m\u001b[1;33m\u001b[0m\u001b[0m\n\u001b[1;32m-> 2895\u001b[1;33m                 \u001b[1;32mreturn\u001b[0m \u001b[0mself\u001b[0m\u001b[1;33m.\u001b[0m\u001b[0m_engine\u001b[0m\u001b[1;33m.\u001b[0m\u001b[0mget_loc\u001b[0m\u001b[1;33m(\u001b[0m\u001b[0mcasted_key\u001b[0m\u001b[1;33m)\u001b[0m\u001b[1;33m\u001b[0m\u001b[1;33m\u001b[0m\u001b[0m\n\u001b[0m\u001b[0;32m   2896\u001b[0m             \u001b[1;32mexcept\u001b[0m \u001b[0mKeyError\u001b[0m \u001b[1;32mas\u001b[0m \u001b[0merr\u001b[0m\u001b[1;33m:\u001b[0m\u001b[1;33m\u001b[0m\u001b[1;33m\u001b[0m\u001b[0m\n",
      "\u001b[1;32mpandas\\_libs\\index.pyx\u001b[0m in \u001b[0;36mpandas._libs.index.IndexEngine.get_loc\u001b[1;34m()\u001b[0m\n",
      "\u001b[1;32mpandas\\_libs\\index.pyx\u001b[0m in \u001b[0;36mpandas._libs.index.IndexEngine.get_loc\u001b[1;34m()\u001b[0m\n",
      "\u001b[1;32mpandas\\_libs\\hashtable_class_helper.pxi\u001b[0m in \u001b[0;36mpandas._libs.hashtable.PyObjectHashTable.get_item\u001b[1;34m()\u001b[0m\n",
      "\u001b[1;32mpandas\\_libs\\hashtable_class_helper.pxi\u001b[0m in \u001b[0;36mpandas._libs.hashtable.PyObjectHashTable.get_item\u001b[1;34m()\u001b[0m\n",
      "\u001b[1;31mKeyError\u001b[0m: 'GENDER'",
      "\nThe above exception was the direct cause of the following exception:\n",
      "\u001b[1;31mKeyError\u001b[0m                                  Traceback (most recent call last)",
      "\u001b[1;32m<ipython-input-47-0bb3b0e86a88>\u001b[0m in \u001b[0;36m<module>\u001b[1;34m\u001b[0m\n\u001b[0;32m      1\u001b[0m \u001b[1;31m# So when you do .value_counts(), it gives you an index and a value\u001b[0m\u001b[1;33m\u001b[0m\u001b[1;33m\u001b[0m\u001b[1;33m\u001b[0m\u001b[0m\n\u001b[1;32m----> 2\u001b[1;33m \u001b[0mdf\u001b[0m\u001b[1;33m[\u001b[0m\u001b[0mdf\u001b[0m\u001b[1;33m[\u001b[0m\u001b[1;34m'GENDER'\u001b[0m\u001b[1;33m]\u001b[0m \u001b[1;33m==\u001b[0m \u001b[1;34m'male'\u001b[0m\u001b[1;33m]\u001b[0m\u001b[1;33m.\u001b[0m\u001b[0mLICTYPE\u001b[0m\u001b[1;33m.\u001b[0m\u001b[0mvalue_counts\u001b[0m\u001b[1;33m(\u001b[0m\u001b[1;33m)\u001b[0m\u001b[1;33m.\u001b[0m\u001b[0mhead\u001b[0m\u001b[1;33m(\u001b[0m\u001b[1;33m)\u001b[0m\u001b[1;33m\u001b[0m\u001b[1;33m\u001b[0m\u001b[0m\n\u001b[0m",
      "\u001b[1;32m~\\AppData\\Local\\Programs\\Python\\Python38\\lib\\site-packages\\pandas\\core\\frame.py\u001b[0m in \u001b[0;36m__getitem__\u001b[1;34m(self, key)\u001b[0m\n\u001b[0;32m   2904\u001b[0m             \u001b[1;32mif\u001b[0m \u001b[0mself\u001b[0m\u001b[1;33m.\u001b[0m\u001b[0mcolumns\u001b[0m\u001b[1;33m.\u001b[0m\u001b[0mnlevels\u001b[0m \u001b[1;33m>\u001b[0m \u001b[1;36m1\u001b[0m\u001b[1;33m:\u001b[0m\u001b[1;33m\u001b[0m\u001b[1;33m\u001b[0m\u001b[0m\n\u001b[0;32m   2905\u001b[0m                 \u001b[1;32mreturn\u001b[0m \u001b[0mself\u001b[0m\u001b[1;33m.\u001b[0m\u001b[0m_getitem_multilevel\u001b[0m\u001b[1;33m(\u001b[0m\u001b[0mkey\u001b[0m\u001b[1;33m)\u001b[0m\u001b[1;33m\u001b[0m\u001b[1;33m\u001b[0m\u001b[0m\n\u001b[1;32m-> 2906\u001b[1;33m             \u001b[0mindexer\u001b[0m \u001b[1;33m=\u001b[0m \u001b[0mself\u001b[0m\u001b[1;33m.\u001b[0m\u001b[0mcolumns\u001b[0m\u001b[1;33m.\u001b[0m\u001b[0mget_loc\u001b[0m\u001b[1;33m(\u001b[0m\u001b[0mkey\u001b[0m\u001b[1;33m)\u001b[0m\u001b[1;33m\u001b[0m\u001b[1;33m\u001b[0m\u001b[0m\n\u001b[0m\u001b[0;32m   2907\u001b[0m             \u001b[1;32mif\u001b[0m \u001b[0mis_integer\u001b[0m\u001b[1;33m(\u001b[0m\u001b[0mindexer\u001b[0m\u001b[1;33m)\u001b[0m\u001b[1;33m:\u001b[0m\u001b[1;33m\u001b[0m\u001b[1;33m\u001b[0m\u001b[0m\n\u001b[0;32m   2908\u001b[0m                 \u001b[0mindexer\u001b[0m \u001b[1;33m=\u001b[0m \u001b[1;33m[\u001b[0m\u001b[0mindexer\u001b[0m\u001b[1;33m]\u001b[0m\u001b[1;33m\u001b[0m\u001b[1;33m\u001b[0m\u001b[0m\n",
      "\u001b[1;32m~\\AppData\\Local\\Programs\\Python\\Python38\\lib\\site-packages\\pandas\\core\\indexes\\base.py\u001b[0m in \u001b[0;36mget_loc\u001b[1;34m(self, key, method, tolerance)\u001b[0m\n\u001b[0;32m   2895\u001b[0m                 \u001b[1;32mreturn\u001b[0m \u001b[0mself\u001b[0m\u001b[1;33m.\u001b[0m\u001b[0m_engine\u001b[0m\u001b[1;33m.\u001b[0m\u001b[0mget_loc\u001b[0m\u001b[1;33m(\u001b[0m\u001b[0mcasted_key\u001b[0m\u001b[1;33m)\u001b[0m\u001b[1;33m\u001b[0m\u001b[1;33m\u001b[0m\u001b[0m\n\u001b[0;32m   2896\u001b[0m             \u001b[1;32mexcept\u001b[0m \u001b[0mKeyError\u001b[0m \u001b[1;32mas\u001b[0m \u001b[0merr\u001b[0m\u001b[1;33m:\u001b[0m\u001b[1;33m\u001b[0m\u001b[1;33m\u001b[0m\u001b[0m\n\u001b[1;32m-> 2897\u001b[1;33m                 \u001b[1;32mraise\u001b[0m \u001b[0mKeyError\u001b[0m\u001b[1;33m(\u001b[0m\u001b[0mkey\u001b[0m\u001b[1;33m)\u001b[0m \u001b[1;32mfrom\u001b[0m \u001b[0merr\u001b[0m\u001b[1;33m\u001b[0m\u001b[1;33m\u001b[0m\u001b[0m\n\u001b[0m\u001b[0;32m   2898\u001b[0m \u001b[1;33m\u001b[0m\u001b[0m\n\u001b[0;32m   2899\u001b[0m         \u001b[1;32mif\u001b[0m \u001b[0mtolerance\u001b[0m \u001b[1;32mis\u001b[0m \u001b[1;32mnot\u001b[0m \u001b[1;32mNone\u001b[0m\u001b[1;33m:\u001b[0m\u001b[1;33m\u001b[0m\u001b[1;33m\u001b[0m\u001b[0m\n",
      "\u001b[1;31mKeyError\u001b[0m: 'GENDER'"
     ]
    }
   ],
   "source": [
    "# So when you do .value_counts(), it gives you an index and a value\n",
    "df[df['GENDER'] == 'male'].LICTYPE.value_counts().head()"
   ]
  },
  {
   "cell_type": "markdown",
   "metadata": {},
   "source": [
    "We did `pd.concat` to combine dataframes, but you can also use it to combine series (like the results of `value_counts()`). If you give it a few `value_counts()` and give it some column names it'll make something real nice."
   ]
  },
  {
   "cell_type": "code",
   "execution_count": null,
   "metadata": {},
   "outputs": [],
   "source": [
    "# All of the values_counts() we will be combining\n",
    "vc_series = [\n",
    "    df[df['GENDER'] == 'male'].LICTYPE.value_counts(),\n",
    "    df[df['GENDER'] == 'female'].LICTYPE.value_counts(),\n",
    "    df[df['GENDER'].isnull()].LICTYPE.value_counts()\n",
    "]\n",
    "# You need axis=1 so it combines them as columns\n",
    "gender_df = pd.concat(vc_series, axis=1)\n",
    "gender_df.head()"
   ]
  },
  {
   "cell_type": "code",
   "execution_count": null,
   "metadata": {},
   "outputs": [],
   "source": [
    "# Turn \"A/C Contractor\" etc into an actual column instead of an index\n",
    "gender_df.reset_index(inplace=True)\n",
    "gender_df.head()"
   ]
  },
  {
   "cell_type": "code",
   "execution_count": null,
   "metadata": {},
   "outputs": [],
   "source": [
    "# Rename the columns appropriately\n",
    "gender_df.columns = [\"license\", \"male\", \"female\", \"unknown\"]\n",
    "# Clean up the NaN by replacing them with zeroes\n",
    "gender_df.fillna(0, inplace=True)\n",
    "gender_df.head()"
   ]
  },
  {
   "cell_type": "markdown",
   "metadata": {},
   "source": [
    "## 35. Add new columns for total licenses, percent known (not percent unknown!), percent male (of known), percent female (of known)\n",
    "\n",
    "And replace any `NaN`s with `0`."
   ]
  },
  {
   "cell_type": "code",
   "execution_count": null,
   "metadata": {},
   "outputs": [],
   "source": []
  },
  {
   "cell_type": "markdown",
   "metadata": {},
   "source": [
    "## 35. What 10 licenses with more than 2,000 people and over 75% \"known\" gender has the most male owners? The most female?"
   ]
  },
  {
   "cell_type": "code",
   "execution_count": null,
   "metadata": {},
   "outputs": [],
   "source": []
  },
  {
   "cell_type": "code",
   "execution_count": null,
   "metadata": {},
   "outputs": [],
   "source": []
  },
  {
   "cell_type": "markdown",
   "metadata": {},
   "source": [
    "## 36. Let's say you have to call a few people about being in a profession dominated by the other gender. What are their phone numbers?\n",
    "\n",
    "This will involve doing some research in one dataframe, then the other one. I didn't put an answer here because I'm interested in what you come up with!"
   ]
  },
  {
   "cell_type": "code",
   "execution_count": null,
   "metadata": {},
   "outputs": [],
   "source": []
  },
  {
   "cell_type": "markdown",
   "metadata": {},
   "source": [
    "## Okay, let's take a break for a second.\n",
    "\n",
    "We've been diving pretty deep into this gender stuff after an initial \"oh but it's not great\" kind of thing.\n",
    "\n",
    "**What issues might come up with our analysis?** Some might be about ethics or discrimination, while some might be about our analysis being misleading or wrong. Go back and take a critical look at what we've done since we started working on gender, and summarize your thoughts below."
   ]
  },
  {
   "cell_type": "code",
   "execution_count": null,
   "metadata": {},
   "outputs": [],
   "source": []
  },
  {
   "cell_type": "markdown",
   "metadata": {},
   "source": [
    "If you found problems with our analysis, **how could we make improvements?**"
   ]
  },
  {
   "cell_type": "code",
   "execution_count": null,
   "metadata": {},
   "outputs": [],
   "source": []
  },
  {
   "cell_type": "code",
   "execution_count": null,
   "metadata": {},
   "outputs": [],
   "source": []
  },
  {
   "cell_type": "markdown",
   "metadata": {},
   "source": [
    "## PART FIVE: Violations\n",
    "\n",
    "### 37. Read in **violations.csv** as `violations_df`, make sure it looks right"
   ]
  },
  {
   "cell_type": "code",
   "execution_count": null,
   "metadata": {},
   "outputs": [],
   "source": []
  },
  {
   "cell_type": "markdown",
   "metadata": {},
   "source": [
    "### 38. Combine with your original licenses dataset dataframe to get phone numbers and addresses for each violation. Check that it is 90 rows, 28 columns."
   ]
  },
  {
   "cell_type": "code",
   "execution_count": null,
   "metadata": {},
   "outputs": [],
   "source": []
  },
  {
   "cell_type": "code",
   "execution_count": null,
   "metadata": {},
   "outputs": [],
   "source": []
  },
  {
   "cell_type": "markdown",
   "metadata": {},
   "source": [
    "## 39. Find each violation involving a failure with records. Use a regular expression."
   ]
  },
  {
   "cell_type": "code",
   "execution_count": null,
   "metadata": {},
   "outputs": [],
   "source": []
  },
  {
   "cell_type": "markdown",
   "metadata": {},
   "source": [
    "## 40. How much money was each fine? Use a regular expression and .str.extract\n",
    "\n",
    "Unfortunately large and helpful troubleshooting tip: `$` means \"end of a line\" in regex, so `.extract` isn't going to accept it as a dollar sign. You need to escape it by using `\\$` instead."
   ]
  },
  {
   "cell_type": "code",
   "execution_count": null,
   "metadata": {},
   "outputs": [],
   "source": []
  },
  {
   "cell_type": "markdown",
   "metadata": {},
   "source": [
    "## 41. Clean those results (no commas, no dollar signs, and it should be an integer) and save it to a new column called `fine`\n",
    "\n",
    "`.replace` is for *entire cells*, you're interested in `.str.replace`, which treats each value like a string, not like a... pandas thing.\n",
    "\n",
    "`.astype(int)` will convert it into an integer for you."
   ]
  },
  {
   "cell_type": "code",
   "execution_count": null,
   "metadata": {},
   "outputs": [],
   "source": []
  },
  {
   "cell_type": "markdown",
   "metadata": {},
   "source": [
    "## 42. Which orders results in the top fines?"
   ]
  },
  {
   "cell_type": "code",
   "execution_count": null,
   "metadata": {},
   "outputs": [],
   "source": []
  },
  {
   "cell_type": "markdown",
   "metadata": {},
   "source": [
    "## 43. Are you still here???\n",
    "\n",
    "I'm sure impressed."
   ]
  },
  {
   "cell_type": "code",
   "execution_count": null,
   "metadata": {},
   "outputs": [],
   "source": []
  }
 ],
 "metadata": {
  "kernelspec": {
   "display_name": "Python 3",
   "language": "python",
   "name": "python3"
  },
  "language_info": {
   "codemirror_mode": {
    "name": "ipython",
    "version": 3
   },
   "file_extension": ".py",
   "mimetype": "text/x-python",
   "name": "python",
   "nbconvert_exporter": "python",
   "pygments_lexer": "ipython3",
   "version": "3.8.6"
  }
 },
 "nbformat": 4,
 "nbformat_minor": 2
}
